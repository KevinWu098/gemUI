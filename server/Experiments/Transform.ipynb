{
 "cells": [
  {
   "cell_type": "code",
   "execution_count": 37,
   "metadata": {},
   "outputs": [],
   "source": [
    "import google.generativeai as genai\n",
    "import ast\n",
    "import os\n",
    "import json\n",
    "import PIL.Image\n",
    "from selenium.webdriver.common.by import By\n",
    "from constants import *\n",
    "\n",
    "# Load environment variables\n",
    "from dotenv import load_dotenv\n",
    "from selenium_functions import open_browser\n",
    "\n",
    "load_dotenv()\n",
    "\n",
    "# Convert the GEMINI_API_KEYS string from environment variables to a list\n",
    "GEMINI_API_KEYS = os.environ.get(\"GEMINI_API_KEYS\")\n",
    "KEY_LIST = ast.literal_eval(GEMINI_API_KEYS)\n",
    "\n",
    "# Randomly shuffle the list of API keys\n",
    "import random\n",
    "random.shuffle(KEY_LIST)\n",
    "\n",
    "# Global index to keep track of the current key\n",
    "current_api_key_index = 0"
   ]
  },
  {
   "cell_type": "code",
   "execution_count": 38,
   "metadata": {},
   "outputs": [],
   "source": [
    "from lxml import html\n",
    "\n",
    "\n",
    "def extract_elements_by_xpath(html_string, xpath_selector):\n",
    "    # Parse the HTML\n",
    "    tree = html.fromstring(html_string)\n",
    "\n",
    "    # Apply the XPath selector\n",
    "    elements = tree.xpath(xpath_selector)\n",
    "\n",
    "    # Return a list of outer HTML for each element\n",
    "    return str([html.tostring(element).decode(\"utf-8\") for element in elements] + [xpath_selector])"
   ]
  },
  {
   "cell_type": "code",
   "execution_count": 41,
   "metadata": {},
   "outputs": [],
   "source": [
    "def cycle_api_key():\n",
    "    global current_api_key_index\n",
    "    if current_api_key_index >= len(KEY_LIST) - 1:\n",
    "        current_api_key_index = 0\n",
    "    else:\n",
    "        current_api_key_index += 1\n",
    "    return KEY_LIST[current_api_key_index]\n",
    "\n",
    "\n",
    "def generate_content_with_cycling_keys(prompt, system_prompt, image=None):\n",
    "    global current_api_key_index\n",
    "    # Get the current API key and cycle to the next one for future requests\n",
    "    api_key = cycle_api_key()\n",
    "\n",
    "    # Configure the generative AI model with the new API key\n",
    "    genai.configure(api_key=api_key)\n",
    "    model = genai.GenerativeModel(\n",
    "        \"gemini-1.5-pro-latest\",\n",
    "        generation_config=genai.GenerationConfig(\n",
    "            max_output_tokens=8000,\n",
    "            temperature=0,\n",
    "        ),\n",
    "        system_instruction=system_prompt,\n",
    "    )\n",
    "\n",
    "    # Generate content using the provided prompt\n",
    "    if image is None:\n",
    "        response = model.generate_content(prompt, request_options={\"timeout\": 1000})\n",
    "    else:\n",
    "        response = model.generate_content(\n",
    "            [prompt, image], request_options={\"timeout\": 1000}\n",
    "        )\n",
    "    return response.text"
   ]
  },
  {
   "cell_type": "code",
   "execution_count": 42,
   "metadata": {},
   "outputs": [
    {
     "ename": "UnicodeDecodeError",
     "evalue": "'charmap' codec can't decode byte 0x9d in position 42003: character maps to <undefined>",
     "output_type": "error",
     "traceback": [
      "\u001b[1;31m---------------------------------------------------------------------------\u001b[0m",
      "\u001b[1;31mUnicodeDecodeError\u001b[0m                        Traceback (most recent call last)",
      "Cell \u001b[1;32mIn[42], line 3\u001b[0m\n\u001b[0;32m      1\u001b[0m \u001b[38;5;66;03m# Load website.html into a string\u001b[39;00m\n\u001b[0;32m      2\u001b[0m \u001b[38;5;28;01mwith\u001b[39;00m \u001b[38;5;28mopen\u001b[39m(\u001b[38;5;124m'\u001b[39m\u001b[38;5;124mdelivery.html\u001b[39m\u001b[38;5;124m'\u001b[39m, \u001b[38;5;124m'\u001b[39m\u001b[38;5;124mr\u001b[39m\u001b[38;5;124m'\u001b[39m) \u001b[38;5;28;01mas\u001b[39;00m file:\n\u001b[1;32m----> 3\u001b[0m     html_string \u001b[38;5;241m=\u001b[39m \u001b[43mfile\u001b[49m\u001b[38;5;241;43m.\u001b[39;49m\u001b[43mread\u001b[49m\u001b[43m(\u001b[49m\u001b[43m)\u001b[49m\n\u001b[0;32m      5\u001b[0m user_prompt \u001b[38;5;241m=\u001b[39m \u001b[38;5;124mf\u001b[39m\u001b[38;5;124m\"\"\"\u001b[39m\n\u001b[0;32m      6\u001b[0m \u001b[38;5;124mcurrent_page: \u001b[39m\u001b[38;5;132;01m{\u001b[39;00mhtml_string\u001b[38;5;132;01m}\u001b[39;00m\n\u001b[0;32m      7\u001b[0m \u001b[38;5;124mOutput selectors for relevant elements (divs, inputs, and images) that are relevant to the user\u001b[39m\u001b[38;5;124m'\u001b[39m\u001b[38;5;124ms request.x\u001b[39m\n\u001b[0;32m      8\u001b[0m \n\u001b[0;32m      9\u001b[0m \u001b[38;5;124muser: I would like to order a pizza for delivery.\u001b[39m\n\u001b[0;32m     10\u001b[0m \u001b[38;5;124m\"\"\"\u001b[39m\n\u001b[0;32m     12\u001b[0m \u001b[38;5;66;03m# Generate content using the prompt and the website HTML\u001b[39;00m\n",
      "File \u001b[1;32m~\\AppData\\Local\\Programs\\Python\\Python39\\lib\\encodings\\cp1252.py:23\u001b[0m, in \u001b[0;36mIncrementalDecoder.decode\u001b[1;34m(self, input, final)\u001b[0m\n\u001b[0;32m     22\u001b[0m \u001b[38;5;28;01mdef\u001b[39;00m \u001b[38;5;21mdecode\u001b[39m(\u001b[38;5;28mself\u001b[39m, \u001b[38;5;28minput\u001b[39m, final\u001b[38;5;241m=\u001b[39m\u001b[38;5;28;01mFalse\u001b[39;00m):\n\u001b[1;32m---> 23\u001b[0m     \u001b[38;5;28;01mreturn\u001b[39;00m \u001b[43mcodecs\u001b[49m\u001b[38;5;241;43m.\u001b[39;49m\u001b[43mcharmap_decode\u001b[49m\u001b[43m(\u001b[49m\u001b[38;5;28;43minput\u001b[39;49m\u001b[43m,\u001b[49m\u001b[38;5;28;43mself\u001b[39;49m\u001b[38;5;241;43m.\u001b[39;49m\u001b[43merrors\u001b[49m\u001b[43m,\u001b[49m\u001b[43mdecoding_table\u001b[49m\u001b[43m)\u001b[49m[\u001b[38;5;241m0\u001b[39m]\n",
      "\u001b[1;31mUnicodeDecodeError\u001b[0m: 'charmap' codec can't decode byte 0x9d in position 42003: character maps to <undefined>"
     ]
    }
   ],
   "source": [
    "# Load website.html into a string\n",
    "with open('delivery.html', 'r') as file:\n",
    "    html = file.read()\n",
    "\n",
    "user_prompt = f\"\"\"\n",
    "current_page: {html}\n",
    "Output selectors for relevant elements (divs, inputs, and images) that are relevant to the user's request.x\n",
    "\n",
    "user: I would like to order a pizza for delivery.\n",
    "\"\"\"\n",
    "\n",
    "# Generate content using the prompt and the website HTML\n",
    "response = generate_content_with_cycling_keys(user_prompt, system_prompt_interpret)\n",
    "if \"```json\" in response:\n",
    "    response = response.split(\"```json\")[1].split(\"```\")[0]\n",
    "obj = json.loads(response)\n",
    "obj"
   ]
  },
  {
   "cell_type": "code",
   "execution_count": null,
   "metadata": {},
   "outputs": [],
   "source": [
    "dom_elements = \"\"\n",
    "for element in obj:\n",
    "    if element['type'] == 'xpath':\n",
    "        dom_elements += extract_elements_by_xpath(html, element[\"selector\"])\n",
    "        dom_elements += \"\\n\"\n",
    "    else:\n",
    "        dom_elements += f\"src: {element['selector']}\\n\""
   ]
  },
  {
   "cell_type": "code",
   "execution_count": null,
   "metadata": {},
   "outputs": [
    {
     "name": "stdout",
     "output_type": "stream",
     "text": [
      "['<button tabindex=\"0\" role=\"tab\" type=\"button\" class=\"css-rssjq3\" id=\"tab-Delivery\" aria-selected=\"true\" data-index=\"0\" aria-labelledby=\"tab-Delivery-label\" aria-describedby=\"tab-Delivery-description\" data-quid=\"Delivery-input\"><span><span class=\"css-n1yrf8\"><svg aria-hidden=\"true\" focusable=\"false\" xmlns=\"http://www.w3.org/2000/svg\" viewbox=\"0 0 35 35\" class=\"css-14nm7ao\"><g><path d=\"M9.27,21.03c0,1.21-.98,2.19-2.19,2.19s-2.19-.98-2.19-2.19,.98-2.19,2.19-2.19,2.19,.98,2.19,2.19\"></path><path d=\"M30.29,21.03c0,1.21-.98,2.19-2.19,2.19s-2.19-.98-2.19-2.19,.98-2.19,2.19-2.19,2.19,.98,2.19,2.19\"></path><path d=\"M32.98,33.18h-3.03c-1.02,0-1.85-.83-1.85-1.85v-1.09c0-.06-.05-.11-.11-.11H7.3c-.06,0-.11,.05-.11,.11v1.09c0,1.02-.83,1.85-1.85,1.85H2.32c-1.02,0-1.85-.83-1.85-1.85v-11.06c0-.68,.24-1.65,.55-2.25l1.58-3.01h-.75c-1.02,0-1.85-.83-1.85-1.85v-.93c0-1.02,.83-1.85,1.85-1.85h2.72c.21,0,.56-.21,.66-.4l2.41-4.59c.4-.76,1.35-1.33,2.2-1.33h15.61c.86,0,1.8,.57,2.2,1.33l2.41,4.59c.1,.19,.44,.4,.66,.4h2.8c1.02,0,1.85,.83,1.85,1.85v.93c0,1.02-.83,1.85-1.85,1.85h-.83l1.58,3.01c.32,.6,.55,1.57,.55,2.25v5.06s0,.06,0,.1v.61s0,.07,0,.1v5.2c0,1.02-.83,1.85-1.85,1.85ZM7.3,28.39H28c1.02,0,1.85,.83,1.85,1.85v1.09c0,.06,.05,.1,.1,.1h3.03c.06,0,.11-.05,.11-.1v-5.3s0-.07,0-.1v-.41s0-.06,0-.1v-5.15c0-.4-.17-1.08-.35-1.44l-1.79-3.42c-.26-.5-.27-1.04,0-1.47,.26-.43,.73-.68,1.3-.68h1.29c.06,0,.1-.05,.1-.1v-.93c0-.06-.05-.11-.1-.11h-2.8c-.86,0-1.8-.57-2.2-1.33l-2.41-4.59c-.1-.19-.44-.4-.66-.4H9.84c-.21,0-.56,.21-.66,.4l-2.41,4.59c-.4,.76-1.34,1.33-2.2,1.33H1.85c-.06,0-.11,.05-.11,.11v.93c0,.06,.05,.1,.11,.1h1.21c.57,0,1.04,.25,1.3,.67,.26,.43,.26,.96,0,1.47l-1.79,3.42c-.19,.35-.35,1.04-.35,1.44v11.06c0,.06,.05,.1,.11,.1h3.03c.06,0,.1-.05,.1-.1v-1.09c0-1.02,.83-1.85,1.85-1.85Z\"></path><path d=\"M28.1,15.2H7.28c-.48,0-.87-.39-.87-.87s.39-.87,.87-.87H28.1c.48,0,.87,.39,.87,.87s-.39,.87-.87,.87Z\"></path><path d=\"M21.95,5.82H12.88c-.35,0-.67-.21-.81-.54-.13-.33-.06-.7,.19-.95L16.33,.26c.16-.16,.39-.26,.62-.26h.92c.23,0,.45,.09,.62,.26l4.07,4.07c.25,.25,.32,.62,.19,.95-.13,.33-.45,.54-.81,.54Zm-6.96-1.74h4.86l-2.33-2.33h-.2l-2.33,2.33Z\"></path></g></svg><span id=\"tab-Delivery-label\">Delivery</span></span><span id=\"tab-Delivery-description\" class=\"css-1qzzs8f\"><span>Traditional Delivery</span><span>Domino\\'s Hotspots&#174;</span></span></span></button>', \"//button[@id='tab-Delivery']\"]\n",
      "['<input data-quid=\"Street\" id=\"Street\" name=\"Street\" aria-required=\"true\" required=\"\" autocomplete=\"address-line1\" maxlength=\"39\" type=\"text\" class=\"css-19b01an ez1ispa0\" value=\"\">', \"//input[@id='Street']\"]\n",
      "['<input data-quid=\"UnitNumber\" id=\"UnitNumber\" name=\"UnitNumber\" autocomplete=\"address-line2\" maxlength=\"39\" type=\"text\" class=\"css-19b01an ez1ispa0\" value=\"\">', \"//input[@id='UnitNumber']\"]\n",
      "['<input data-quid=\"PostalCode\" id=\"PostalCode\" name=\"PostalCode\" aria-required=\"true\" required=\"\" autocomplete=\"postal-code\" type=\"text\" class=\"css-19b01an ez1ispa0\" value=\"\" aria-describedby=\"hint-PostalCode\">', \"//input[@id='PostalCode']\"]\n",
      "['<input data-quid=\"City\" id=\"City\" name=\"City\" aria-required=\"true\" required=\"\" autocomplete=\"address-level2\" maxlength=\"39\" type=\"text\" class=\"css-19b01an ez1ispa0\" value=\"\">', \"//input[@id='City']\"]\n",
      "['<select data-quid=\"Region\" id=\"Region\" name=\"Region\" aria-required=\"true\" required=\"\" autocomplete=\"address-level1\" class=\"css-16ldxte\"><option value=\"\">Select A State</option><option value=\"AK\">AK</option><option value=\"AL\">AL</option><option value=\"AR\">AR</option><option value=\"AZ\">AZ</option><option value=\"CA\">CA</option><option value=\"CO\">CO</option><option value=\"CT\">CT</option><option value=\"DC\">DC</option><option value=\"DE\">DE</option><option value=\"FL\">FL</option><option value=\"GA\">GA</option><option value=\"HI\">HI</option><option value=\"IA\">IA</option><option value=\"ID\">ID</option><option value=\"IL\">IL</option><option value=\"IN\">IN</option><option value=\"KS\">KS</option><option value=\"KY\">KY</option><option value=\"LA\">LA</option><option value=\"MA\">MA</option><option value=\"MD\">MD</option><option value=\"ME\">ME</option><option value=\"MI\">MI</option><option value=\"MN\">MN</option><option value=\"MO\">MO</option><option value=\"MS\">MS</option><option value=\"MT\">MT</option><option value=\"NC\">NC</option><option value=\"ND\">ND</option><option value=\"NE\">NE</option><option value=\"NH\">NH</option><option value=\"NJ\">NJ</option><option value=\"NM\">NM</option><option value=\"NV\">NV</option><option value=\"NY\">NY</option><option value=\"OH\">OH</option><option value=\"OK\">OK</option><option value=\"OR\">OR</option><option value=\"PA\">PA</option><option value=\"RI\">RI</option><option value=\"SC\">SC</option><option value=\"SD\">SD</option><option value=\"TN\">TN</option><option value=\"TX\">TX</option><option value=\"UT\">UT</option><option value=\"VT\">VT</option><option value=\"VA\">VA</option><option value=\"WA\">WA</option><option value=\"WV\">WV</option><option value=\"WI\">WI</option><option value=\"WY\">WY</option></select>', \"//select[@id='Region']\"]\n",
      "src: /static/1.88.2/images/metaTags/dominos_social_logo.jpg\n",
      "\n"
     ]
    }
   ],
   "source": [
    "print(dom_elements)"
   ]
  },
  {
   "cell_type": "code",
   "execution_count": null,
   "metadata": {},
   "outputs": [],
   "source": [
    "design = PIL.Image.open(\"design.png\")\n",
    "response = generate_content_with_cycling_keys(\n",
    "    design_schema\n",
    "    + \"\\n\\n\"\n",
    "    + dom_elements\n",
    "    + \"\\n\\n\"\n",
    "    + '\"Only output div, button, input, img, and select elements. Do not use Tailwind Classes\\nBase Url for images (if any): https://dominos.com \\n\\n',\n",
    "    system_prompt_generate,\n",
    ")"
   ]
  },
  {
   "cell_type": "code",
   "execution_count": null,
   "metadata": {},
   "outputs": [
    {
     "name": "stdout",
     "output_type": "stream",
     "text": [
      "```html\n",
      "<div class='container'>\n",
      "    <button class='rounded-lg bg-[#9F03FE] hover:bg-[#8200D1] px-4 py-2 text-white font-bold' special-id='//button[@id='tab-Delivery']'>\n",
      "        Delivery\n",
      "    </button>\n",
      "    <div class='input flex flex-col gap-4'>\n",
      "       <input class='border rounded-lg px-3 py-2 text-[#A5A5A5]' special-id='//input[@id='Street']' placeholder='Street'>\n",
      "       <input class='border rounded-lg px-3 py-2 text-[#A5A5A5]' special-id='//input[@id='UnitNumber']' placeholder='Unit Number'>\n",
      "       <input class='border rounded-lg px-3 py-2 text-[#A5A5A5]' special-id='//input[@id='PostalCode']' placeholder='Postal Code'>\n",
      "       <input class='border rounded-lg px-3 py-2 text-[#A5A5A5]' special-id='//input[@id='City']' placeholder='City'>\n",
      "    </div>\n",
      "    <select class='border rounded-lg px-3 py-2 text-[#A5A5A5]' special-id='//select[@id='Region']'>\n",
      "        <option value=\"\">Select A State</option>\n",
      "        <option value=\"AK\">AK</option>\n",
      "        <option value=\"AL\">AL</option>\n",
      "        <option value=\"AR\">AR</option>\n",
      "        <option value=\"AZ\">AZ</option>\n",
      "        <option value=\"CA\">CA</option>\n",
      "        <option value=\"CO\">CO</option>\n",
      "        <option value=\"CT\">CT</option>\n",
      "        <option value=\"DC\">DC</option>\n",
      "        <option value=\"DE\">DE</option>\n",
      "        <option value=\"FL\">FL</option>\n",
      "        <option value=\"GA\">GA</option>\n",
      "        <option value=\"HI\">HI</option>\n",
      "        <option value=\"IA\">IA</option>\n",
      "        <option value=\"ID\">ID</option>\n",
      "        <option value=\"IL\">IL</option>\n",
      "        <option value=\"IN\">IN</option>\n",
      "        <option value=\"KS\">KS</option>\n",
      "        <option value=\"KY\">KY</option>\n",
      "        <option value=\"LA\">LA</option>\n",
      "        <option value=\"MA\">MA</option>\n",
      "        <option value=\"MD\">MD</option>\n",
      "        <option value=\"ME\">ME</option>\n",
      "        <option value=\"MI\">MI</option>\n",
      "        <option value=\"MN\">MN</option>\n",
      "        <option value=\"MO\">MO</option>\n",
      "        <option value=\"MS\">MS</option>\n",
      "        <option value=\"MT\">MT</option>\n",
      "        <option value=\"NC\">NC</option>\n",
      "        <option value=\"ND\">ND</option>\n",
      "        <option value=\"NE\">NE</option>\n",
      "        <option value=\"NH\">NH</option>\n",
      "        <option value=\"NJ\">NJ</option>\n",
      "        <option value=\"NM\">NM</option>\n",
      "        <option value=\"NV\">NV</option>\n",
      "        <option value=\"NY\">NY</option>\n",
      "        <option value=\"OH\">OH</option>\n",
      "        <option value=\"OK\">OK</option>\n",
      "        <option value=\"OR\">OR</option>\n",
      "        <option value=\"PA\">PA</option>\n",
      "        <option value=\"RI\">RI</option>\n",
      "        <option value=\"SC\">SC</option>\n",
      "        <option value=\"SD\">SD</option>\n",
      "        <option value=\"TN\">TN</option>\n",
      "        <option value=\"TX\">TX</option>\n",
      "        <option value=\"UT\">UT</option>\n",
      "        <option value=\"VT\">VT</option>\n",
      "        <option value=\"VA\">VA</option>\n",
      "        <option value=\"WA\">WA</option>\n",
      "        <option value=\"WV\">WV</option>\n",
      "        <option value=\"WI\">WI</option>\n",
      "        <option value=\"WY\">WY</option>\n",
      "    </select>\n",
      "</div>\n",
      "```\n"
     ]
    }
   ],
   "source": [
    "print(response)"
   ]
  }
 ],
 "metadata": {
  "kernelspec": {
   "display_name": "mhacks",
   "language": "python",
   "name": "python3"
  },
  "language_info": {
   "codemirror_mode": {
    "name": "ipython",
    "version": 3
   },
   "file_extension": ".py",
   "mimetype": "text/x-python",
   "name": "python",
   "nbconvert_exporter": "python",
   "pygments_lexer": "ipython3",
   "version": "3.9.18"
  }
 },
 "nbformat": 4,
 "nbformat_minor": 2
}
