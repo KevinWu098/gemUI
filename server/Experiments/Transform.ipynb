{
 "cells": [
  {
   "cell_type": "code",
   "execution_count": 1,
   "metadata": {},
   "outputs": [
    {
     "name": "stderr",
     "output_type": "stream",
     "text": [
      "/Users/artemis/miniconda3/envs/mhacks/lib/python3.9/site-packages/tqdm/auto.py:21: TqdmWarning: IProgress not found. Please update jupyter and ipywidgets. See https://ipywidgets.readthedocs.io/en/stable/user_install.html\n",
      "  from .autonotebook import tqdm as notebook_tqdm\n"
     ]
    }
   ],
   "source": [
    "import google.generativeai as genai\n",
    "import ast\n",
    "import os\n",
    "import json\n",
    "import PIL.Image\n",
    "from selenium.webdriver.common.by import By\n",
    "\n",
    "# Load environment variables\n",
    "from dotenv import load_dotenv\n",
    "from selenium_functions import open_browser\n",
    "\n",
    "load_dotenv()\n",
    "\n",
    "# Convert the GEMINI_API_KEYS string from environment variables to a list\n",
    "GEMINI_API_KEYS = os.environ.get(\"GEMINI_API_KEYS\")\n",
    "KEY_LIST = ast.literal_eval(GEMINI_API_KEYS)\n",
    "\n",
    "# Global index to keep track of the current key\n",
    "current_api_key_index = 0"
   ]
  },
  {
   "cell_type": "code",
   "execution_count": 2,
   "metadata": {},
   "outputs": [],
   "source": [
    "from lxml import html\n",
    "\n",
    "\n",
    "def extract_elements_by_xpath(html_string, xpath_selector):\n",
    "    # Parse the HTML\n",
    "    tree = html.fromstring(html_string)\n",
    "\n",
    "    # Apply the XPath selector\n",
    "    elements = tree.xpath(xpath_selector)\n",
    "\n",
    "    # Return a list of outer HTML for each element\n",
    "    return str([html.tostring(element).decode(\"utf-8\") for element in elements] + [xpath_selector])"
   ]
  },
  {
   "cell_type": "code",
   "execution_count": 20,
   "metadata": {},
   "outputs": [],
   "source": [
    "system_prompt_interpret = \"\"\"\n",
    "You are a web browser navigation assistant that trims and scrapes relevant portions of the UI for a user.\n",
    "\n",
    "Whenever a user requests something, you will return an xpath selector, id selector, or src attribute of an image that is relevant to the user.\n",
    "\n",
    "If the request requires multiple choices, return ALL RELEVANT selectors that contains the UI that will enable the user to choose the choice themselves.\n",
    "\n",
    "For example, if there is a container containing two buttons, and it is ambiguous which button the user is interested in, return a selector to the container instead of one of the buttons only.\n",
    "\n",
    "If there are images that are relevant to the user, return the src attribute of the image.\n",
    "\n",
    "Output your result in the following format:\n",
    "\n",
    "If the user is interested in a specific part of the UI, output your result in the following format:\n",
    "[\n",
    "    {\n",
    "        \"type\": xpath\n",
    "        \"selector\": the selection string\n",
    "    },\n",
    "    {\n",
    "        \"type\": id\n",
    "        \"selector\": the selection string\n",
    "    },\n",
    "    {\n",
    "        \"type\": src\n",
    "        \"selector\": the src attribute of the image\n",
    "    }\n",
    "]\n",
    "\"\"\"\n",
    "\n",
    "system_prompt_generate = \"\"\"\n",
    "You are a web browser navigation assistant that generates a user interface for a user to interact with.\n",
    "You will be given DOM elements from another web browser navigation assistant that trims and scrapes relevant portions of the UI for a user.\n",
    "\n",
    "Your task is to generate valid HTML strings that can be rendered in a browser, specifically focusing on interactive elements such as buttons and text fields. \n",
    "Please use TailwindCSS for styling.\n",
    "\n",
    "Each element should only have two attributes:\n",
    "- class: a string of classes separated by spaces, for TailwindCSS styling\n",
    "- special-id: the XPath or id selector that was given to you, which will be used for identifying the element during interactions\n",
    "- type: a string that is either 'text', 'button', 'input', or 'img'\n",
    "\n",
    "Only output images if they are contained in the DOM elements that were given to you.\n",
    "\n",
    "Output your result in the following format:\n",
    "<div class='container classes here'>\n",
    "    <div type='text' class='input classes here'>\n",
    "        <!-- Additional content here -->\n",
    "    </div>\n",
    "    <div type='button' class='button classes here' special-id='button selector here'\">\n",
    "        <!-- Additional content here -->\n",
    "    </div>\n",
    "    <input type='input' class='input classes here' special-id='input selector here'>\n",
    "    <img type='img' class='img classes here' src='image source here'>\n",
    "</div>\n",
    "\"\"\""
   ]
  },
  {
   "cell_type": "code",
   "execution_count": 13,
   "metadata": {},
   "outputs": [],
   "source": [
    "def cycle_api_key():\n",
    "    global current_api_key_index\n",
    "    if current_api_key_index >= len(KEY_LIST) - 1:\n",
    "        current_api_key_index = 0\n",
    "    else:\n",
    "        current_api_key_index += 1\n",
    "    return KEY_LIST[current_api_key_index]\n",
    "\n",
    "\n",
    "def generate_content_with_cycling_keys(prompt, system_prompt, image=None):\n",
    "    global current_api_key_index\n",
    "    # Get the current API key and cycle to the next one for future requests\n",
    "    api_key = cycle_api_key()\n",
    "\n",
    "    # Configure the generative AI model with the new API key\n",
    "    genai.configure(api_key=api_key)\n",
    "    model = genai.GenerativeModel(\n",
    "        \"gemini-1.5-pro-latest\",\n",
    "        generation_config=genai.GenerationConfig(\n",
    "            max_output_tokens=8000,\n",
    "            temperature=0,\n",
    "        ),\n",
    "        system_instruction=system_prompt,\n",
    "    )\n",
    "\n",
    "    # Generate content using the provided prompt\n",
    "    if image is None:\n",
    "        response = model.generate_content(prompt)\n",
    "    else:\n",
    "        response = model.generate_content([prompt, image])\n",
    "    return response.text"
   ]
  },
  {
   "cell_type": "code",
   "execution_count": 21,
   "metadata": {},
   "outputs": [],
   "source": [
    "# Load website.html into a string\n",
    "with open('website.html', 'r') as file:\n",
    "    website_html = file.read()\n",
    "\n",
    "user_prompt = f\"\"\"\n",
    "user: Show me the deals\n",
    "\n",
    "current_page: {website_html}\n",
    "\"\"\"\n",
    "\n",
    "# Generate content using the prompt and the website HTML\n",
    "response = generate_content_with_cycling_keys(user_prompt, system_prompt_interpret)\n",
    "if \"```json\" in response:\n",
    "    response = response.split(\"```json\")[1].split(\"```\")[0]"
   ]
  },
  {
   "cell_type": "code",
   "execution_count": 22,
   "metadata": {},
   "outputs": [
    {
     "data": {
      "text/plain": [
       "[{'type': 'xpath', 'selector': \"//div[@data-quid='mix-and-match-deal']\"},\n",
       " {'type': 'xpath', 'selector': \"//div[@data-quid='perfect-combo-deal']\"},\n",
       " {'type': 'xpath', 'selector': \"//div[@data-quid='carryout-deal']\"}]"
      ]
     },
     "execution_count": 22,
     "metadata": {},
     "output_type": "execute_result"
    }
   ],
   "source": [
    "obj = json.loads(response)\n",
    "obj"
   ]
  },
  {
   "cell_type": "code",
   "execution_count": 16,
   "metadata": {},
   "outputs": [],
   "source": [
    "dom_elements = \"\"\n",
    "for element in obj:\n",
    "    if element['type'] == 'xpath':\n",
    "        dom_elements += extract_elements_by_xpath(website_html, element[\"selector\"])\n",
    "        dom_elements += \"\\n\"\n",
    "    elif element['type'] == 'id':\n",
    "        pass\n",
    "    else:\n",
    "        dom_elements += f\"src: {element['selector']}\\n\""
   ]
  },
  {
   "cell_type": "code",
   "execution_count": 17,
   "metadata": {},
   "outputs": [
    {
     "name": "stdout",
     "output_type": "stream",
     "text": [
      "['<div data-quid=\"mix-and-match-deal\" dpz-track-evt-name=\"mix-and-match-deal-hero\" class=\"clickable-card hero css-1gtjg14\"><div class=\"css-15tsjqp\"><h2 class=\"css-1dzbqx5\"><span class=\" css-1uwlllm\" data-quid=\"mix-and-match-deal-flag\">Mix &amp; Match Deal</span></h2></div><div class=\"css-73v5jz\"><p class=\" css-7ey74b\" data-quid=\"mix-and-match-deal-headline1\">Choose Any 2 or More</p></div><div class=\"css-jz9tyt\"><svg aria-hidden=\"true\" focusable=\"false\" viewbox=\"0 0 0 0\" xmlns=\"http://www.w3.org/2000/svg\" class=\"css-1snrpgp\"><filter id=\"price-stroke\"><femorphology in=\"SourceGraphic\" operator=\"dilate\" radius=\"2\" result=\"expand\"></femorphology><feflood flood-color=\"#e31837\"></feflood><fecomposite in2=\"expand\" operator=\"in\" result=\"expand\"></fecomposite><femerge><femergenode in=\"expand\"></femergenode><femergenode in=\"SourceGraphic\"></femergenode></femerge></filter></svg><span data-quid=\"mix-and-match-deal-price-formatted\" style=\"border: 0px; clip: rect(0px, 0px, 0px, 0px); height: 1px; margin: -1px; overflow: hidden; padding: 0px; position: absolute; white-space: nowrap; width: 1px;\">$6.99&#160;</span><span class=\"css-bs2oft\"><span aria-hidden=\"true\" data-quid=\"mix-and-match-deal-price-symbol\" class=\"css-wdwpl4\">$</span><span aria-hidden=\"true\" data-quid=\"mix-and-match-deal-price-dollars\" class=\"css-soqgep\">6</span><span aria-hidden=\"true\" data-quid=\"mix-and-match-deal-price-cents\" class=\"css-13ainkt\">99</span><span class=\"css-1bdv37n\">each</span></span></div><div class=\"css-54elam\"><div class=\" css-73wkly\">California pricing higher</div><div class=\"css-zi79hc\" data-quid=\"mix-and-match-deal-legal\"><div class=\"clickable-card css-ecslkm\"><p class=\"css-1d8gf5m\">2-Item Minimum. Bone-in Wings, Bread Bowl Pasta, and Handmade Pan Pizza will cost extra. Prices, delivery area, and charges may vary by store. Delivery orders are subject to each local store\\'s delivery charge. <a class=\"css-cbf8kx\" href=\"#mix-match-offer-disclaimer\">Mix &amp; Match offer details</a></p></div></div></div><div class=\"css-1qahr2k\"><a data-quid=\"mix-and-match-deal-button\" class=\"css-1mi7hka\" href=\"/en/restaurants?couponCode_0=MIXANDMATCH&amp;partnerCode=DOMINOS&amp;so=hp&amp;panelname=mixandmatch\">Order Now<span class=\"visually-hidden\" style=\"border: 0px; clip: rect(0px, 0px, 0px, 0px); height: 1px; margin: -1px; overflow: hidden; padding: 0px; position: absolute; white-space: nowrap; width: 1px;\">&#160;Mix &amp; Match Deal</span></a></div></div>', \"//div[@data-quid='mix-and-match-deal']\"]\n",
      "['<div data-quid=\"perfect-combo-deal\" dpz-track-evt-name=\"perfect-combo-deal-side\" class=\"clickable-card side css-lqcara\"><div class=\"css-1wynp3x\"><h2 class=\"css-1dzbqx5\"><span class=\" css-1uwlllm\" data-quid=\"perfect-combo-deal-flag\">Perfect Combo Deal</span></h2></div><div class=\"css-jedut0\"><svg aria-hidden=\"true\" focusable=\"false\" viewbox=\"0 0 0 0\" xmlns=\"http://www.w3.org/2000/svg\" class=\"css-1snrpgp\"><filter id=\"price-stroke\"><femorphology in=\"SourceGraphic\" operator=\"dilate\" radius=\"2\" result=\"expand\"></femorphology><feflood flood-color=\"#e31837\"></feflood><fecomposite in2=\"expand\" operator=\"in\" result=\"expand\"></fecomposite><femerge><femergenode in=\"expand\"></femergenode><femergenode in=\"SourceGraphic\"></femergenode></femerge></filter></svg><span data-quid=\"perfect-combo-deal-price-formatted\" style=\"border: 0px; clip: rect(0px, 0px, 0px, 0px); height: 1px; margin: -1px; overflow: hidden; padding: 0px; position: absolute; white-space: nowrap; width: 1px;\">$19.99&#160;</span><span class=\"css-1jmwurd\"><span aria-hidden=\"true\" data-quid=\"perfect-combo-deal-price-symbol\" class=\"css-wdwpl4\">$</span><span aria-hidden=\"true\" data-quid=\"perfect-combo-deal-price-dollars\" class=\"css-soqgep\">19</span><span aria-hidden=\"true\" data-quid=\"perfect-combo-deal-price-cents\" class=\"css-13ainkt\">99</span></span></div><div class=\"css-oma3vn\"><a data-quid=\"perfect-combo-deal-button\" class=\"css-13kbtau\" href=\"/en/restaurants?couponCode_0=PERFECTCOMBO&amp;partnerCode=DOMINOS&amp;so=hp&amp;panelname=1999PerfectCombo&amp;panelnumber=2\">Order Now<span style=\"border: 0px; clip: rect(0px, 0px, 0px, 0px); height: 1px; margin: -1px; overflow: hidden; padding: 0px; position: absolute; white-space: nowrap; width: 1px;\">&#160;Perfect Combo Deal</span></a></div><div class=\"css-1ny0ofc\"><p class=\" css-1jj235g\">California pricing higher</p><p class=\" css-r0d87c\" data-quid=\"perfect-combo-deal-legal\">Handmade Pan Pizzas will be extra.<br>No substitutions permitted.</p></div></div>', \"//div[@data-quid='perfect-combo-deal']\"]\n",
      "['<div data-quid=\"carryout-deal\" dpz-track-evt-name=\"carryout-deal-side\" class=\"clickable-card side css-hue41x\"><div class=\"css-1wynp3x\"><h2 class=\"css-1dzbqx5\"><span class=\" css-1uwlllm\" data-quid=\"carryout-deal-flag\">Carryout Deal</span></h2></div><div class=\"css-hgkfc2\"><p class=\" css-fqvmap\" data-quid=\"carryout-deal-copy\"><span class=\" css-1ifzo69\">All Pizzas</span><span class=\" css-1ifzo69\">1 topping</span><span class=\" css-1nmfysd\"><span class=\" css-ui0fo\">or</span> Dips &amp; Twists combos</span><span class=\" css-1nmfysd\"><span class=\" css-ui0fo\">or</span> 8-piece wings</span></p></div><div class=\"css-1gx7b2m\"><svg aria-hidden=\"true\" focusable=\"false\" viewbox=\"0 0 0 0\" xmlns=\"http://www.w3.org/2000/svg\" class=\"css-1snrpgp\"><filter id=\"price-stroke\"><femorphology in=\"SourceGraphic\" operator=\"dilate\" radius=\"2\" result=\"expand\"></femorphology><feflood flood-color=\"#e31837\"></feflood><fecomposite in2=\"expand\" operator=\"in\" result=\"expand\"></fecomposite><femerge><femergenode in=\"expand\"></femergenode><femergenode in=\"SourceGraphic\"></femergenode></femerge></filter></svg><span data-quid=\"carryout-deal-price-formatted\" style=\"border: 0px; clip: rect(0px, 0px, 0px, 0px); height: 1px; margin: -1px; overflow: hidden; padding: 0px; position: absolute; white-space: nowrap; width: 1px;\">$7.99&#160;</span><span class=\"css-1jmwurd\"><span aria-hidden=\"true\" data-quid=\"carryout-deal-price-symbol\" class=\"css-wdwpl4\">$</span><span aria-hidden=\"true\" data-quid=\"carryout-deal-price-dollars\" class=\"css-soqgep\">7</span><span aria-hidden=\"true\" data-quid=\"carryout-deal-price-cents\" class=\"css-13ainkt\">99</span><span class=\"css-1bdv37n\">each</span></span></div><div class=\"css-o5b3uz\"><a data-quid=\"carryout-deal-button\" class=\"css-13kbtau\" href=\"/en/restaurants?couponCode_0=9174&amp;partnerCode=DOMINOS&amp;so=hp&amp;panelname=CarryoutSpecialSide&amp;type=Carryout\">Order Now<span style=\"border: 0px; clip: rect(0px, 0px, 0px, 0px); height: 1px; margin: -1px; overflow: hidden; padding: 0px; position: absolute; white-space: nowrap; width: 1px;\">&#160;Carryout Deal</span></a></div><div class=\"css-1ny0ofc\"><div class=\" css-88tb4p\">California pricing higher</div><p class=\" css-13ihd6u\" data-quid=\"carryout-deal-legal\">Carryout only. Size availability varies by crust type. Excludes XL &amp; Specialty Pizzas. Local stores may charge extra for some toppings and sauces.</p></div></div>', \"//div[@data-quid='carryout-deal']\"]\n",
      "\n"
     ]
    }
   ],
   "source": [
    "print(dom_elements)"
   ]
  },
  {
   "cell_type": "code",
   "execution_count": 18,
   "metadata": {},
   "outputs": [],
   "source": [
    "design = PIL.Image.open(\"design.png\")\n",
    "response = generate_content_with_cycling_keys(\n",
    "    \"Use the attached branding guide to style the output. Use the typographies and hex codes defined in the image\\nBase Url for images (if any): https://dominos.com\" + dom_elements, system_prompt_generate, image=design\n",
    ")"
   ]
  },
  {
   "cell_type": "code",
   "execution_count": 19,
   "metadata": {},
   "outputs": [
    {
     "name": "stdout",
     "output_type": "stream",
     "text": [
      "```html\n",
      "<div class='container bg-gray-200 p-4 rounded-lg'>\n",
      "    <div type='text' class='text-3xl font-bold text-gray-800 mb-4' special-id='//div[@data-quid=\"mix-and-match-deal\"]//h2[@class=\"css-1dzbqx5\"]'>\n",
      "        Mix & Match Deal\n",
      "    </div>\n",
      "    <div type='text' class='text-xl font-semibold text-gray-700 mb-4' special-id='//div[@data-quid=\"mix-and-match-deal\"]//p[@class=\" css-7ey74b\"]'>\n",
      "        Choose Any 2 or More\n",
      "    </div>\n",
      "    <div type='text' class='text-4xl font-bold text-red-600 mb-4' special-id='//div[@data-quid=\"mix-and-match-deal\"]//span[@class=\"css-bs2oft\"]'>\n",
      "        $6.99 each\n",
      "    </div>\n",
      "    <div type='button' class='bg-red-600 hover:bg-red-700 text-white font-bold py-2 px-4 rounded' special-id='//div[@data-quid=\"mix-and-match-deal\"]//a[@data-quid=\"mix-and-match-deal-button\"]'>\n",
      "        Order Now\n",
      "    </div>\n",
      "</div>\n",
      "<div class='container bg-gray-200 p-4 rounded-lg mt-4'>\n",
      "    <div type='text' class='text-3xl font-bold text-gray-800 mb-4' special-id='//div[@data-quid=\"perfect-combo-deal\"]//h2[@class=\"css-1dzbqx5\"]'>\n",
      "        Perfect Combo Deal\n",
      "    </div>\n",
      "    <div type='text' class='text-4xl font-bold text-red-600 mb-4' special-id='//div[@data-quid=\"perfect-combo-deal\"]//span[@class=\"css-1jmwurd\"]'>\n",
      "        $19.99\n",
      "    </div>\n",
      "    <div type='button' class='bg-red-600 hover:bg-red-700 text-white font-bold py-2 px-4 rounded' special-id='//div[@data-quid=\"perfect-combo-deal\"]//a[@data-quid=\"perfect-combo-deal-button\"]'>\n",
      "        Order Now\n",
      "    </div>\n",
      "</div>\n",
      "<div class='container bg-gray-200 p-4 rounded-lg mt-4'>\n",
      "    <div type='text' class='text-3xl font-bold text-gray-800 mb-4' special-id='//div[@data-quid=\"carryout-deal\"]//h2[@class=\"css-1dzbqx5\"]'>\n",
      "        Carryout Deal\n",
      "    </div>\n",
      "    <div type='text' class='text-xl font-semibold text-gray-700 mb-4' special-id='//div[@data-quid=\"carryout-deal\"]//p[@class=\" css-fqvmap\"]'>\n",
      "        All Pizzas 1 topping or Dips & Twists combos or 8-piece wings \n",
      "    </div>\n",
      "    <div type='text' class='text-4xl font-bold text-red-600 mb-4' special-id='//div[@data-quid=\"carryout-deal\"]//span[@class=\"css-1jmwurd\"]'>\n",
      "        $7.99 each\n",
      "    </div>\n",
      "    <div type='button' class='bg-red-600 hover:bg-red-700 text-white font-bold py-2 px-4 rounded' special-id='//div[@data-quid=\"carryout-deal\"]//a[@data-quid=\"carryout-deal-button\"]'>\n",
      "        Order Now \n",
      "    </div>\n",
      "</div>\n",
      "```\n",
      "\n"
     ]
    }
   ],
   "source": [
    "print(response)"
   ]
  }
 ],
 "metadata": {
  "kernelspec": {
   "display_name": "mhacks",
   "language": "python",
   "name": "python3"
  },
  "language_info": {
   "codemirror_mode": {
    "name": "ipython",
    "version": 3
   },
   "file_extension": ".py",
   "mimetype": "text/x-python",
   "name": "python",
   "nbconvert_exporter": "python",
   "pygments_lexer": "ipython3",
   "version": "3.9.18"
  }
 },
 "nbformat": 4,
 "nbformat_minor": 2
}
