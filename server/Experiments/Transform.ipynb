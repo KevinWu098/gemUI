{
 "cells": [
  {
   "cell_type": "code",
   "execution_count": 39,
   "metadata": {},
   "outputs": [],
   "source": [
    "import google.generativeai as genai\n",
    "import ast\n",
    "import os\n",
    "import json\n",
    "import PIL.Image\n",
    "from selenium.webdriver.common.by import By\n",
    "\n",
    "# Load environment variables\n",
    "from dotenv import load_dotenv\n",
    "from selenium_functions import open_browser\n",
    "\n",
    "load_dotenv()\n",
    "\n",
    "# Convert the GEMINI_API_KEYS string from environment variables to a list\n",
    "GEMINI_API_KEYS = os.environ.get(\"GEMINI_API_KEYS\")\n",
    "KEY_LIST = ast.literal_eval(GEMINI_API_KEYS)\n",
    "\n",
    "# Randomly shuffle the list of API keys\n",
    "import random\n",
    "random.shuffle(KEY_LIST)\n",
    "\n",
    "# Global index to keep track of the current key\n",
    "current_api_key_index = 0"
   ]
  },
  {
   "cell_type": "code",
   "execution_count": 40,
   "metadata": {},
   "outputs": [],
   "source": [
    "from lxml import html\n",
    "\n",
    "\n",
    "def extract_elements_by_xpath(html_string, xpath_selector):\n",
    "    # Parse the HTML\n",
    "    tree = html.fromstring(html_string)\n",
    "\n",
    "    # Apply the XPath selector\n",
    "    elements = tree.xpath(xpath_selector)\n",
    "\n",
    "    # Return a list of outer HTML for each element\n",
    "    return str([html.tostring(element).decode(\"utf-8\") for element in elements] + [xpath_selector])"
   ]
  },
  {
   "cell_type": "code",
   "execution_count": 41,
   "metadata": {},
   "outputs": [],
   "source": [
    "# goal: \"type\": \"src\", \"selector\": \"some url I think\"\n",
    "system_prompt_interpret = \"\"\"\n",
    "You are a web browser navigation assistant that trims and scrapes relevant portions of the UI for a user. Relevant is defined as the portion of the UI that the user requests for.\n",
    "Only return selectors or images that are relevant to the user's request.\n",
    "\n",
    "Whenever a user requests something, you will return the xpath selector or the src attribute of an image that returns the path to the specific file the image is stored in within the client file of the website.\n",
    "Ensure that all paths end with the file extension of the image (examples are .jpg, .png, .gif, etc.)\n",
    "\n",
    "If the request requires multiple choices, return ALL RELEVANT selectors that contains the UI that will enable the user to choose the choice themselves.\n",
    "For example, if there is a container containing two buttons, and it is ambiguous which button the user is interested in, return a selector to the container instead of one of the buttons only.\n",
    "\n",
    "Output your result in the following format and output as many selectors as necessary. Ensure that the output is a JSON object and that there is a diversity of file paths aligned to the specific types of each image:\n",
    "[\n",
    "    {\n",
    "        \"type\": xpath\n",
    "        \"selector\": selector\n",
    "    },\n",
    "    {\n",
    "        \"type\": src\n",
    "        \"selector\": the src attribute of the image represented as the route to the image inside of the client file of the website\n",
    "    },\n",
    "    ...\n",
    "]\n",
    "\"\"\"\n",
    "\n",
    "system_prompt_generate = \"\"\"\n",
    "You are a web browser navigation assistant that generates a user interface for a user to interact with.\n",
    "You will be given DOM elements from another web browser navigation assistant that trims and scrapes relevant portions of the UI for a user.\n",
    "\n",
    "Your task is to generate valid HTML strings that can be rendered in a browser, specifically focusing on interactive elements such as buttons and text fields. \n",
    "Please use TailwindCSS for styling. Use actual hex colors for the colors, do not use TailwindCSS classes for colors.\n",
    "\n",
    "Each element should only have two attributes:\n",
    "- class: a string of classes separated by spaces, for TailwindCSS styling\n",
    "- special-id: the XPath or id selector that was given to you, which will be used for identifying the element during interactions\n",
    "- type: a string that is either 'text', 'button', 'input', or 'img'\n",
    "\n",
    "Only output images if they are contained in the DOM elements that were given to you.\n",
    "\n",
    "Output your result in the following format:\n",
    "<div class='container classes here'>\n",
    "    <div type='text' class='input classes here'>\n",
    "        <!-- Additional content here -->\n",
    "    </div>\n",
    "    <div type='button' class='button classes here' special-id='button selector here'\">\n",
    "        <!-- Additional content here -->\n",
    "    </div>\n",
    "    <input type='input' class='input classes here' special-id='input selector here'>\n",
    "    <img type='img' class='img classes here' src='image source here'>\n",
    "</div>\n",
    "\"\"\""
   ]
  },
  {
   "cell_type": "code",
   "execution_count": 42,
   "metadata": {},
   "outputs": [],
   "source": [
    "def cycle_api_key():\n",
    "    global current_api_key_index\n",
    "    if current_api_key_index >= len(KEY_LIST) - 1:\n",
    "        current_api_key_index = 0\n",
    "    else:\n",
    "        current_api_key_index += 1\n",
    "    return KEY_LIST[current_api_key_index]\n",
    "\n",
    "\n",
    "def generate_content_with_cycling_keys(prompt, system_prompt, image=None):\n",
    "    global current_api_key_index\n",
    "    # Get the current API key and cycle to the next one for future requests\n",
    "    api_key = cycle_api_key()\n",
    "\n",
    "    # Configure the generative AI model with the new API key\n",
    "    genai.configure(api_key=api_key)\n",
    "    model = genai.GenerativeModel(\n",
    "        \"gemini-1.5-pro-latest\",\n",
    "        generation_config=genai.GenerationConfig(\n",
    "            max_output_tokens=8000,\n",
    "            temperature=0,\n",
    "        ),\n",
    "        system_instruction=system_prompt,\n",
    "    )\n",
    "\n",
    "    # Generate content using the provided prompt\n",
    "    if image is None:\n",
    "        response = model.generate_content(prompt)\n",
    "    else:\n",
    "        response = model.generate_content([prompt, image])\n",
    "    return response.text"
   ]
  },
  {
   "cell_type": "code",
   "execution_count": 43,
   "metadata": {},
   "outputs": [
    {
     "data": {
      "text/plain": [
       "[{'type': 'xpath', 'selector': \"//div[@data-quid='mix-and-match-deal']\"},\n",
       " {'type': 'xpath', 'selector': \"//div[@data-quid='perfect-combo-deal']\"},\n",
       " {'type': 'xpath', 'selector': \"//div[@data-quid='carryout-deal']\"},\n",
       " {'type': 'src',\n",
       "  'selector': '/static/1.88.2/images/tiles/mixAndMatchDeal/hero.webp'},\n",
       " {'type': 'src',\n",
       "  'selector': '/static/1.88.2/images/tiles/perfectComboDeal/side.webp'},\n",
       " {'type': 'src',\n",
       "  'selector': '/static/1.88.2/images/tiles/carryoutDeal/side.webp'}]"
      ]
     },
     "execution_count": 43,
     "metadata": {},
     "output_type": "execute_result"
    }
   ],
   "source": [
    "# Load website.html into a string\n",
    "with open('website.html', 'r') as file:\n",
    "    html = file.read()\n",
    "\n",
    "user_prompt = f\"\"\"\n",
    "current_page: {html}\n",
    "\n",
    "user: Show me the deals\n",
    "\"\"\"\n",
    "\n",
    "# Generate content using the prompt and the website HTML\n",
    "response = generate_content_with_cycling_keys(user_prompt, system_prompt_interpret)\n",
    "if \"```json\" in response:\n",
    "    response = response.split(\"```json\")[1].split(\"```\")[0]\n",
    "obj = json.loads(response)\n",
    "obj"
   ]
  },
  {
   "cell_type": "code",
   "execution_count": 44,
   "metadata": {},
   "outputs": [],
   "source": [
    "dom_elements = \"\"\n",
    "for element in obj:\n",
    "    if element['type'] == 'xpath':\n",
    "        dom_elements += extract_elements_by_xpath(html, element[\"selector\"])\n",
    "        dom_elements += \"\\n\"\n",
    "    elif element['type'] == 'id':\n",
    "        pass\n",
    "    else:\n",
    "        dom_elements += f\"src: {element['selector']}\\n\""
   ]
  },
  {
   "cell_type": "code",
   "execution_count": 45,
   "metadata": {},
   "outputs": [
    {
     "name": "stdout",
     "output_type": "stream",
     "text": [
      "['<div data-quid=\"mix-and-match-deal\" dpz-track-evt-name=\"mix-and-match-deal-hero\" class=\"clickable-card hero css-1gtjg14\"><div class=\"css-15tsjqp\"><h2 class=\"css-1dzbqx5\"><span class=\" css-1uwlllm\" data-quid=\"mix-and-match-deal-flag\">Mix &amp; Match Deal</span></h2></div><div class=\"css-73v5jz\"><p class=\" css-7ey74b\" data-quid=\"mix-and-match-deal-headline1\">Choose Any 2 or More</p></div><div class=\"css-jz9tyt\"><svg aria-hidden=\"true\" focusable=\"false\" viewbox=\"0 0 0 0\" xmlns=\"http://www.w3.org/2000/svg\" class=\"css-1snrpgp\"><filter id=\"price-stroke\"><femorphology in=\"SourceGraphic\" operator=\"dilate\" radius=\"2\" result=\"expand\"></femorphology><feflood flood-color=\"#e31837\"></feflood><fecomposite in2=\"expand\" operator=\"in\" result=\"expand\"></fecomposite><femerge><femergenode in=\"expand\"></femergenode><femergenode in=\"SourceGraphic\"></femergenode></femerge></filter></svg><span data-quid=\"mix-and-match-deal-price-formatted\" style=\"border: 0px; clip: rect(0px, 0px, 0px, 0px); height: 1px; margin: -1px; overflow: hidden; padding: 0px; position: absolute; white-space: nowrap; width: 1px;\">$6.99&#160;</span><span class=\"css-bs2oft\"><span aria-hidden=\"true\" data-quid=\"mix-and-match-deal-price-symbol\" class=\"css-wdwpl4\">$</span><span aria-hidden=\"true\" data-quid=\"mix-and-match-deal-price-dollars\" class=\"css-soqgep\">6</span><span aria-hidden=\"true\" data-quid=\"mix-and-match-deal-price-cents\" class=\"css-13ainkt\">99</span><span class=\"css-1bdv37n\">each</span></span></div><div class=\"css-54elam\"><div class=\" css-73wkly\">California pricing higher</div><div class=\"css-zi79hc\" data-quid=\"mix-and-match-deal-legal\"><div class=\"clickable-card css-ecslkm\"><p class=\"css-1d8gf5m\">2-Item Minimum. Bone-in Wings, Bread Bowl Pasta, and Handmade Pan Pizza will cost extra. Prices, delivery area, and charges may vary by store. Delivery orders are subject to each local store\\'s delivery charge. <a class=\"css-cbf8kx\" href=\"#mix-match-offer-disclaimer\">Mix &amp; Match offer details</a></p></div></div></div><div class=\"css-1qahr2k\"><a data-quid=\"mix-and-match-deal-button\" class=\"css-1mi7hka\" href=\"/en/restaurants?couponCode_0=MIXANDMATCH&amp;partnerCode=DOMINOS&amp;so=hp&amp;panelname=mixandmatch\">Order Now<span class=\"visually-hidden\" style=\"border: 0px; clip: rect(0px, 0px, 0px, 0px); height: 1px; margin: -1px; overflow: hidden; padding: 0px; position: absolute; white-space: nowrap; width: 1px;\">&#160;Mix &amp; Match Deal</span></a></div></div>', \"//div[@data-quid='mix-and-match-deal']\"]\n",
      "['<div data-quid=\"perfect-combo-deal\" dpz-track-evt-name=\"perfect-combo-deal-side\" class=\"clickable-card side css-lqcara\"><div class=\"css-1wynp3x\"><h2 class=\"css-1dzbqx5\"><span class=\" css-1uwlllm\" data-quid=\"perfect-combo-deal-flag\">Perfect Combo Deal</span></h2></div><div class=\"css-jedut0\"><svg aria-hidden=\"true\" focusable=\"false\" viewbox=\"0 0 0 0\" xmlns=\"http://www.w3.org/2000/svg\" class=\"css-1snrpgp\"><filter id=\"price-stroke\"><femorphology in=\"SourceGraphic\" operator=\"dilate\" radius=\"2\" result=\"expand\"></femorphology><feflood flood-color=\"#e31837\"></feflood><fecomposite in2=\"expand\" operator=\"in\" result=\"expand\"></fecomposite><femerge><femergenode in=\"expand\"></femergenode><femergenode in=\"SourceGraphic\"></femergenode></femerge></filter></svg><span data-quid=\"perfect-combo-deal-price-formatted\" style=\"border: 0px; clip: rect(0px, 0px, 0px, 0px); height: 1px; margin: -1px; overflow: hidden; padding: 0px; position: absolute; white-space: nowrap; width: 1px;\">$19.99&#160;</span><span class=\"css-1jmwurd\"><span aria-hidden=\"true\" data-quid=\"perfect-combo-deal-price-symbol\" class=\"css-wdwpl4\">$</span><span aria-hidden=\"true\" data-quid=\"perfect-combo-deal-price-dollars\" class=\"css-soqgep\">19</span><span aria-hidden=\"true\" data-quid=\"perfect-combo-deal-price-cents\" class=\"css-13ainkt\">99</span></span></div><div class=\"css-oma3vn\"><a data-quid=\"perfect-combo-deal-button\" class=\"css-13kbtau\" href=\"/en/restaurants?couponCode_0=PERFECTCOMBO&amp;partnerCode=DOMINOS&amp;so=hp&amp;panelname=1999PerfectCombo&amp;panelnumber=2\">Order Now<span style=\"border: 0px; clip: rect(0px, 0px, 0px, 0px); height: 1px; margin: -1px; overflow: hidden; padding: 0px; position: absolute; white-space: nowrap; width: 1px;\">&#160;Perfect Combo Deal</span></a></div><div class=\"css-1ny0ofc\"><p class=\" css-1jj235g\">California pricing higher</p><p class=\" css-r0d87c\" data-quid=\"perfect-combo-deal-legal\">Handmade Pan Pizzas will be extra.<br>No substitutions permitted.</p></div></div>', \"//div[@data-quid='perfect-combo-deal']\"]\n",
      "['<div data-quid=\"carryout-deal\" dpz-track-evt-name=\"carryout-deal-side\" class=\"clickable-card side css-hue41x\"><div class=\"css-1wynp3x\"><h2 class=\"css-1dzbqx5\"><span class=\" css-1uwlllm\" data-quid=\"carryout-deal-flag\">Carryout Deal</span></h2></div><div class=\"css-hgkfc2\"><p class=\" css-fqvmap\" data-quid=\"carryout-deal-copy\"><span class=\" css-1ifzo69\">All Pizzas</span><span class=\" css-1ifzo69\">1 topping</span><span class=\" css-1nmfysd\"><span class=\" css-ui0fo\">or</span> Dips &amp; Twists combos</span><span class=\" css-1nmfysd\"><span class=\" css-ui0fo\">or</span> 8-piece wings</span></p></div><div class=\"css-1gx7b2m\"><svg aria-hidden=\"true\" focusable=\"false\" viewbox=\"0 0 0 0\" xmlns=\"http://www.w3.org/2000/svg\" class=\"css-1snrpgp\"><filter id=\"price-stroke\"><femorphology in=\"SourceGraphic\" operator=\"dilate\" radius=\"2\" result=\"expand\"></femorphology><feflood flood-color=\"#e31837\"></feflood><fecomposite in2=\"expand\" operator=\"in\" result=\"expand\"></fecomposite><femerge><femergenode in=\"expand\"></femergenode><femergenode in=\"SourceGraphic\"></femergenode></femerge></filter></svg><span data-quid=\"carryout-deal-price-formatted\" style=\"border: 0px; clip: rect(0px, 0px, 0px, 0px); height: 1px; margin: -1px; overflow: hidden; padding: 0px; position: absolute; white-space: nowrap; width: 1px;\">$7.99&#160;</span><span class=\"css-1jmwurd\"><span aria-hidden=\"true\" data-quid=\"carryout-deal-price-symbol\" class=\"css-wdwpl4\">$</span><span aria-hidden=\"true\" data-quid=\"carryout-deal-price-dollars\" class=\"css-soqgep\">7</span><span aria-hidden=\"true\" data-quid=\"carryout-deal-price-cents\" class=\"css-13ainkt\">99</span><span class=\"css-1bdv37n\">each</span></span></div><div class=\"css-o5b3uz\"><a data-quid=\"carryout-deal-button\" class=\"css-13kbtau\" href=\"/en/restaurants?couponCode_0=9174&amp;partnerCode=DOMINOS&amp;so=hp&amp;panelname=CarryoutSpecialSide&amp;type=Carryout\">Order Now<span style=\"border: 0px; clip: rect(0px, 0px, 0px, 0px); height: 1px; margin: -1px; overflow: hidden; padding: 0px; position: absolute; white-space: nowrap; width: 1px;\">&#160;Carryout Deal</span></a></div><div class=\"css-1ny0ofc\"><div class=\" css-88tb4p\">California pricing higher</div><p class=\" css-13ihd6u\" data-quid=\"carryout-deal-legal\">Carryout only. Size availability varies by crust type. Excludes XL &amp; Specialty Pizzas. Local stores may charge extra for some toppings and sauces.</p></div></div>', \"//div[@data-quid='carryout-deal']\"]\n",
      "src: /static/1.88.2/images/tiles/mixAndMatchDeal/hero.webp\n",
      "src: /static/1.88.2/images/tiles/perfectComboDeal/side.webp\n",
      "src: /static/1.88.2/images/tiles/carryoutDeal/side.webp\n",
      "\n"
     ]
    }
   ],
   "source": [
    "print(dom_elements)"
   ]
  },
  {
   "cell_type": "code",
   "execution_count": 46,
   "metadata": {},
   "outputs": [],
   "source": [
    "design = PIL.Image.open(\"design.png\")\n",
    "response = generate_content_with_cycling_keys(\n",
    "    \"Use the attached branding guide to style the output. Use the typographies and hex codes defined in the image. Do not use Tailwind Classes\\nBase Url for images (if any): https://dominos.com\" + dom_elements, system_prompt_generate, image=design\n",
    ")"
   ]
  },
  {
   "cell_type": "code",
   "execution_count": 47,
   "metadata": {},
   "outputs": [
    {
     "name": "stdout",
     "output_type": "stream",
     "text": [
      "```html\n",
      "<div class='container flex flex-col gap-4 p-8'>\n",
      "    <div type='text' class='text-3xl font-bold' style='font-family: \"Inter Bold\"; color: #2B2B2B;'>\n",
      "        Mix &amp; Match Deal\n",
      "    </div>\n",
      "    <div type='text' class='text-xl font-semibold' style='font-family: \"Inter Semi-bold\"; color: #2B2B2B;'>\n",
      "        Choose Any 2 or More\n",
      "    </div>\n",
      "    <div type='text' class='text-4xl font-bold' style='font-family: \"Inter Bold\"; color: #E31837;'>\n",
      "        $6.99 each\n",
      "    </div>\n",
      "    <div type='text' class='text-sm' style='font-family: \"Inter Medium\"; color: #9F03FE;'>\n",
      "        California pricing higher\n",
      "    </div>\n",
      "    <div type='text' class='text-xs' style='font-family: \"Inter Medium\"; color: #9F03FE;'>\n",
      "        2-Item Minimum. Bone-in Wings, Bread Bowl Pasta, and Handmade Pan Pizza will cost extra. Prices, delivery area, and charges may vary by store. Delivery orders are subject to each local store's delivery charge. \n",
      "    </div>\n",
      "    <div type='button' class='rounded-md px-4 py-2 text-white' style='background-color: #9F03FE; font-family: \"Inter Semi-bold\";' special-id='//div[@data-quid=\"mix-and-match-deal\"]//a[@data-quid=\"mix-and-match-deal-button\"]'>\n",
      "        Order Now\n",
      "    </div>\n",
      "    <img type='img' class='w-full h-auto rounded-md' src='https://dominos.com/static/1.88.2/images/tiles/mixAndMatchDeal/hero.webp'>\n",
      "</div>\n",
      "<div class='container flex flex-col gap-4 p-8'>\n",
      "    <div type='text' class='text-3xl font-bold' style='font-family: \"Inter Bold\"; color: #2B2B2B;'>\n",
      "        Perfect Combo Deal\n",
      "    </div>\n",
      "    <div type='text' class='text-4xl font-bold' style='font-family: \"Inter Bold\"; color: #E31837;'>\n",
      "        $19.99\n",
      "    </div>\n",
      "    <div type='button' class='rounded-md px-4 py-2 text-white' style='background-color: #9F03FE; font-family: \"Inter Semi-bold\";' special-id='//div[@data-quid=\"perfect-combo-deal\"]//a[@data-quid=\"perfect-combo-deal-button\"]'>\n",
      "        Order Now\n",
      "    </div>\n",
      "    <div type='text' class='text-sm' style='font-family: \"Inter Medium\"; color: #9F03FE;'>\n",
      "        California pricing higher\n",
      "    </div>\n",
      "    <div type='text' class='text-xs' style='font-family: \"Inter Medium\"; color: #9F03FE;'>\n",
      "        Handmade Pan Pizzas will be extra. No substitutions permitted.\n",
      "    </div>\n",
      "    <img type='img' class='w-full h-auto rounded-md' src='https://dominos.com/static/1.88.2/images/tiles/perfectComboDeal/side.webp'>\n",
      "</div>\n",
      "<div class='container flex flex-col gap-4 p-8'>\n",
      "    <div type='text' class='text-3xl font-bold' style='font-family: \"Inter Bold\"; color: #2B2B2B;'>\n",
      "        Carryout Deal\n",
      "    </div>\n",
      "    <div type='text' class='text-xl font-semibold' style='font-family: \"Inter Semi-bold\"; color: #2B2B2B;'>\n",
      "        All Pizzas 1 topping or Dips &amp; Twists combos or 8-piece wings\n",
      "    </div>\n",
      "    <div type='text' class='text-4xl font-bold' style='font-family: \"Inter Bold\"; color: #E31837;'>\n",
      "        $7.99 each\n",
      "    </div>\n",
      "    <div type='button' class='rounded-md px-4 py-2 text-white' style='background-color: #9F03FE; font-family: \"Inter Semi-bold\";' special-id='//div[@data-quid=\"carryout-deal\"]//a[@data-quid=\"carryout-deal-button\"]'>\n",
      "        Order Now\n",
      "    </div>\n",
      "    <div type='text' class='text-sm' style='font-family: \"Inter Medium\"; color: #9F03FE;'>\n",
      "        California pricing higher\n",
      "    </div>\n",
      "    <div type='text' class='text-xs' style='font-family: \"Inter Medium\"; color: #9F03FE;'>\n",
      "        Carryout only. Size availability varies by crust type. Excludes XL &amp; Specialty Pizzas. Local stores may charge extra for some toppings and sauces.\n",
      "    </div>\n",
      "    <img type='img' class='w-full h-auto rounded-md' src='https://dominos.com/static/1.88.2/images/tiles/carryoutDeal/side.webp'>\n",
      "</div>\n",
      "```\n"
     ]
    }
   ],
   "source": [
    "print(response)"
   ]
  }
 ],
 "metadata": {
  "kernelspec": {
   "display_name": "mhacks",
   "language": "python",
   "name": "python3"
  },
  "language_info": {
   "codemirror_mode": {
    "name": "ipython",
    "version": 3
   },
   "file_extension": ".py",
   "mimetype": "text/x-python",
   "name": "python",
   "nbconvert_exporter": "python",
   "pygments_lexer": "ipython3",
   "version": "3.9.18"
  }
 },
 "nbformat": 4,
 "nbformat_minor": 2
}
