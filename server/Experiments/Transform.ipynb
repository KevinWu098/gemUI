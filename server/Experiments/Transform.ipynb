{
 "cells": [
  {
   "cell_type": "code",
   "execution_count": 11,
   "metadata": {},
   "outputs": [],
   "source": [
    "import google.generativeai as genai\n",
    "import ast\n",
    "import os\n",
    "import json\n",
    "import PIL.Image\n",
    "from selenium.webdriver.common.by import By\n",
    "\n",
    "# Load environment variables\n",
    "from dotenv import load_dotenv\n",
    "from selenium_functions import open_browser\n",
    "\n",
    "load_dotenv()\n",
    "\n",
    "# Convert the GEMINI_API_KEYS string from environment variables to a list\n",
    "GEMINI_API_KEYS = os.environ.get(\"GEMINI_API_KEYS\")\n",
    "KEY_LIST = ast.literal_eval(GEMINI_API_KEYS)\n",
    "\n",
    "# Global index to keep track of the current key\n",
    "current_api_key_index = 0\n",
    "\n",
    "\n"
   ]
  },
  {
   "cell_type": "code",
   "execution_count": 2,
   "metadata": {},
   "outputs": [],
   "source": [
    "from lxml import html\n",
    "\n",
    "\n",
    "def extract_elements_by_xpath(html_string, xpath_selector):\n",
    "    # Parse the HTML\n",
    "    tree = html.fromstring(html_string)\n",
    "\n",
    "    # Apply the XPath selector\n",
    "    elements = tree.xpath(xpath_selector)\n",
    "\n",
    "    # Return a list of outer HTML for each element\n",
    "    return str([html.tostring(element).decode(\"utf-8\") for element in elements])"
   ]
  },
  {
   "cell_type": "code",
   "execution_count": 4,
   "metadata": {},
   "outputs": [],
   "source": [
    "system_prompt_interpret = \"\"\"\n",
    "You are a web browser navigation assistant that trims and scrapes relevant portions of the UI for a user.\n",
    "\n",
    "Whenever a user requests something, you will return a navigator action to switch URLs, or an xpath or id selector to the relevant parts of the UI for a user to look at.\n",
    "\n",
    "You will only return path or id selectors. If the request requires multiple choices, return ALL RELEVANT selectors that contains the UI that will enable the user to choose the choice themselves.\n",
    "\n",
    "For example, if there is a container containing two buttons, and it is ambiguous which button the user is interested in, return a selector to the container instead of one of the buttons only.\n",
    "\n",
    "Output your result in the following format:\n",
    "\n",
    "If the user is interested in a specific part of the UI, output your result in the following format:\n",
    "[\n",
    "    {\n",
    "        \"type\": either \"xpath\" or \"id\",\n",
    "        \"selector\": the selection string\n",
    "    },\n",
    "    {\n",
    "        \"type\": either \"xpath\" or \"id\",\n",
    "        \"selector\": the selection string\n",
    "    },\n",
    "]\n",
    "\"\"\"\n",
    "\n",
    "system_prompt_generate = \"\"\"\n",
    "You are a web browser navigation assistant that generates a user interface for a user to interact with.\n",
    "You will be given dom elements from another web browser navigation assistant that trims and scrapes relevant portions of the UI for a user.\n",
    "\n",
    "Your task is to generate valid html strings that can be rendered in a browser.\n",
    "Please use tailwindcss for styling.\n",
    "\n",
    "Output your result in the following format:\n",
    "<div>\n",
    "    ...\n",
    "</div>\n",
    "\"\"\""
   ]
  },
  {
   "cell_type": "code",
   "execution_count": 14,
   "metadata": {},
   "outputs": [],
   "source": [
    "def cycle_api_key():\n",
    "    global current_api_key_index\n",
    "    if current_api_key_index >= len(KEY_LIST) - 1:\n",
    "        current_api_key_index = 0\n",
    "    else:\n",
    "        current_api_key_index += 1\n",
    "    return KEY_LIST[current_api_key_index]\n",
    "\n",
    "\n",
    "def generate_content_with_cycling_keys(prompt, system_prompt, image):\n",
    "    global current_api_key_index\n",
    "    # Get the current API key and cycle to the next one for future requests\n",
    "    api_key = cycle_api_key()\n",
    "\n",
    "    # Configure the generative AI model with the new API key\n",
    "    genai.configure(api_key=api_key)\n",
    "    model = genai.GenerativeModel(\n",
    "        \"gemini-1.5-pro-latest\",\n",
    "        generation_config=genai.GenerationConfig(\n",
    "            max_output_tokens=8000,\n",
    "            temperature=0,\n",
    "        ),\n",
    "        system_instruction=system_prompt,\n",
    "    )\n",
    "\n",
    "    # Generate content using the provided prompt\n",
    "    response = model.generate_content([prompt, image])\n",
    "    return response.text"
   ]
  },
  {
   "cell_type": "code",
   "execution_count": 13,
   "metadata": {},
   "outputs": [
    {
     "ename": "AttributeError",
     "evalue": "'WebDriver' object has no attribute 'get_full_page_screenshot_as_base64'",
     "output_type": "error",
     "traceback": [
      "\u001b[1;31m---------------------------------------------------------------------------\u001b[0m",
      "\u001b[1;31mAttributeError\u001b[0m                            Traceback (most recent call last)",
      "Cell \u001b[1;32mIn[13], line 13\u001b[0m\n\u001b[0;32m     10\u001b[0m website_html \u001b[38;5;241m=\u001b[39m browser\u001b[38;5;241m.\u001b[39mpage_source\n\u001b[0;32m     12\u001b[0m \u001b[38;5;66;03m# take a screenshot of the website\u001b[39;00m\n\u001b[1;32m---> 13\u001b[0m screenshot \u001b[38;5;241m=\u001b[39m \u001b[43mbrowser\u001b[49m\u001b[38;5;241;43m.\u001b[39;49m\u001b[43mget_full_page_screenshot_as_base64\u001b[49m()\n\u001b[0;32m     15\u001b[0m user_prompt \u001b[38;5;241m=\u001b[39m \u001b[38;5;124mf\u001b[39m\u001b[38;5;124m\"\"\"\u001b[39m\n\u001b[0;32m     16\u001b[0m \u001b[38;5;124muser: I want to order a pizza\u001b[39m\n\u001b[0;32m     17\u001b[0m \n\u001b[1;32m   (...)\u001b[0m\n\u001b[0;32m     20\u001b[0m \u001b[38;5;124mcurrent_screenshot: \u001b[39m\u001b[38;5;132;01m{\u001b[39;00mscreenshot\u001b[38;5;132;01m}\u001b[39;00m\n\u001b[0;32m     21\u001b[0m \u001b[38;5;124m\"\"\"\u001b[39m\n\u001b[0;32m     23\u001b[0m \u001b[38;5;66;03m# Generate content using the prompt and the website HTML\u001b[39;00m\n",
      "\u001b[1;31mAttributeError\u001b[0m: 'WebDriver' object has no attribute 'get_full_page_screenshot_as_base64'"
     ]
    }
   ],
   "source": [
    "# Load website.html into a string\n",
    "# with open('website.html', 'r') as file:\n",
    "#     website_html = file.read()\n",
    "    \n",
    "# use selenium to open the browser and take a screenshot\n",
    "browser = open_browser()\n",
    "\n",
    "browser.get(\"https://www.dominos.com/en/\")\n",
    "\n",
    "website_html = browser.page_source\n",
    "\n",
    "# take a screenshot of the website\n",
    "screenshot = browser.save_screenshot(\"website.png\")\n",
    "img = PIL.Image.open('website.png')\n",
    "\n",
    "user_prompt = f\"\"\"\n",
    "user: I want to order a pizza\n",
    "\n",
    "current_page: {website_html}\n",
    "\n",
    "current_screenshot is attached\n",
    "\"\"\"\n",
    "    \n",
    "# Generate content using the prompt and the website HTML\n",
    "response = generate_content_with_cycling_keys(user_prompt, system_prompt_interpret, img)"
   ]
  },
  {
   "cell_type": "code",
   "execution_count": 26,
   "metadata": {},
   "outputs": [
    {
     "data": {
      "text/plain": [
       "[{'type': 'xpath',\n",
       "  'selector': '//a[@data-quid=\"start-your-order-delivery-cta\"]'},\n",
       " {'type': 'xpath',\n",
       "  'selector': '//a[@data-quid=\"start-your-order-carryout-cta\"]'}]"
      ]
     },
     "execution_count": 26,
     "metadata": {},
     "output_type": "execute_result"
    }
   ],
   "source": [
    "obj = json.loads(response)\n",
    "obj"
   ]
  },
  {
   "cell_type": "code",
   "execution_count": 33,
   "metadata": {},
   "outputs": [],
   "source": [
    "dom_elements = \"\"\n",
    "for element in obj:\n",
    "    if element['type'] == 'xpath':\n",
    "        dom_elements += extract_elements_by_xpath(website_html, element[\"selector\"])\n",
    "        dom_elements += \"\\n\"\n",
    "    elif element['type'] == 'id':\n",
    "        pass"
   ]
  },
  {
   "cell_type": "code",
   "execution_count": 34,
   "metadata": {},
   "outputs": [
    {
     "name": "stdout",
     "output_type": "stream",
     "text": [
      "['<a data-dpz-track-evt-name=\"SYO_Delivery\" data-quid=\"start-your-order-delivery-cta\" href=\"/en/restaurants?type=Delivery\" class=\"css-14js2j3\">Delivery</a>']\n",
      "['<a data-dpz-track-evt-name=\"SYO_Carryout\" data-quid=\"start-your-order-carryout-cta\" href=\"/en/restaurants?type=Carryout\" class=\"css-14js2j3\">Carryout</a>']\n",
      "\n"
     ]
    }
   ],
   "source": [
    "print(dom_elements)"
   ]
  },
  {
   "cell_type": "code",
   "execution_count": 39,
   "metadata": {},
   "outputs": [],
   "source": [
    "response = generate_content_with_cycling_keys(dom_elements, system_prompt_generate)"
   ]
  },
  {
   "cell_type": "code",
   "execution_count": 40,
   "metadata": {},
   "outputs": [
    {
     "name": "stdout",
     "output_type": "stream",
     "text": [
      "```html\n",
      "<div class=\"flex justify-center gap-4\">\n",
      "    <a data-dpz-track-evt-name=\"SYO_Delivery\" data-quid=\"start-your-order-delivery-cta\" href=\"/en/restaurants?type=Delivery\" class=\"css-14js2j3 bg-blue-500 hover:bg-blue-700 text-white font-bold py-2 px-4 rounded\">\n",
      "        Delivery\n",
      "    </a>\n",
      "    <a data-dpz-track-evt-name=\"SYO_Carryout\" data-quid=\"start-your-order-carryout-cta\" href=\"/en/restaurants?type=Carryout\" class=\"css-14js2j3 bg-blue-500 hover:bg-blue-700 text-white font-bold py-2 px-4 rounded\">\n",
      "        Carryout\n",
      "    </a>\n",
      "</div>\n",
      "``` \n",
      "\n"
     ]
    }
   ],
   "source": [
    "print(response)"
   ]
  }
 ],
 "metadata": {
  "kernelspec": {
   "display_name": "mhacks",
   "language": "python",
   "name": "python3"
  },
  "language_info": {
   "codemirror_mode": {
    "name": "ipython",
    "version": 3
   },
   "file_extension": ".py",
   "mimetype": "text/x-python",
   "name": "python",
   "nbconvert_exporter": "python",
   "pygments_lexer": "ipython3",
   "version": "3.9.13"
  }
 },
 "nbformat": 4,
 "nbformat_minor": 2
}
