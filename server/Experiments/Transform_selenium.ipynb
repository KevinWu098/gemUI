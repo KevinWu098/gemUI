{
 "cells": [
  {
   "cell_type": "code",
   "execution_count": 1,
   "metadata": {},
   "outputs": [
    {
     "name": "stderr",
     "output_type": "stream",
     "text": [
      "/Users/artemis/miniconda3/envs/mhacks/lib/python3.9/site-packages/tqdm/auto.py:21: TqdmWarning: IProgress not found. Please update jupyter and ipywidgets. See https://ipywidgets.readthedocs.io/en/stable/user_install.html\n",
      "  from .autonotebook import tqdm as notebook_tqdm\n"
     ]
    }
   ],
   "source": [
    "import google.generativeai as genai\n",
    "import ast\n",
    "import os\n",
    "import json\n",
    "import PIL.Image\n",
    "from selenium.webdriver.common.by import By\n",
    "\n",
    "# Load environment variables\n",
    "from dotenv import load_dotenv\n",
    "from selenium_functions import open_browser\n",
    "\n",
    "load_dotenv()\n",
    "\n",
    "# Convert the GEMINI_API_KEYS string from environment variables to a list\n",
    "GEMINI_API_KEYS = os.environ.get(\"GEMINI_API_KEYS\")\n",
    "KEY_LIST = ast.literal_eval(GEMINI_API_KEYS)\n",
    "\n",
    "# Randomly shuffle the list of API keys\n",
    "import random\n",
    "random.shuffle(KEY_LIST)\n",
    "\n",
    "# Global index to keep track of the current key\n",
    "current_api_key_index = 0"
   ]
  },
  {
   "cell_type": "code",
   "execution_count": 2,
   "metadata": {},
   "outputs": [],
   "source": [
    "from lxml import html\n",
    "\n",
    "\n",
    "def extract_elements_by_xpath(html_string, xpath_selector):\n",
    "    # Parse the HTML\n",
    "    tree = html.fromstring(html_string)\n",
    "\n",
    "    # Apply the XPath selector\n",
    "    elements = tree.xpath(xpath_selector)\n",
    "\n",
    "    # Return a list of outer HTML for each element\n",
    "    return str([html.tostring(element).decode(\"utf-8\") for element in elements] + [xpath_selector])"
   ]
  },
  {
   "cell_type": "code",
   "execution_count": 12,
   "metadata": {},
   "outputs": [],
   "source": [
    "# goal: \"type\": \"src\", \"selector\": \"some url I think\"\n",
    "system_prompt_interpret = \"\"\"\n",
    "You are a web browser navigation assistant that trims and scrapes relevant portions of the UI for a user. Relevant is defined as the portion of the UI that the user requests for.\n",
    "Only return selectors or images that are relevant to the user's request.\n",
    "\n",
    "Whenever a user requests something, you will return the xpath selector or the src attribute of an image that returns the path to the specific file the image is stored in within the client file of the website.\n",
    "Ensure that all paths end with the file extension of the image (examples are .jpg, .png, .gif, etc.)\n",
    "\n",
    "If the request requires multiple choices, return ALL RELEVANT selectors that contains the UI that will enable the user to choose the choice themselves.\n",
    "For example, if there is a container containing two buttons, and it is ambiguous which button the user is interested in, return a selector to the container instead of one of the buttons only.\n",
    "\n",
    "Output your result in the following format and output as many selectors as necessary. Ensure that the output is a JSON object and that there is a diversity of file paths aligned to the specific types of each image:\n",
    "[\n",
    "    {\n",
    "        \"type\": xpath\n",
    "        \"selector\": selector\n",
    "    },\n",
    "    {\n",
    "        \"type\": src\n",
    "        \"selector\": the src attribute of the image represented as the route to the image inside of the client file of the website\n",
    "    },\n",
    "    ...\n",
    "]\n",
    "\"\"\"\n",
    "\n",
    "system_prompt_generate = \"\"\"\n",
    "You are a web browser navigation assistant that generates a user interface for a user to interact with.\n",
    "You will be given DOM elements from another web browser navigation assistant that trims and scrapes relevant portions of the UI for a user.\n",
    "\n",
    "Your task is to generate valid HTML strings that can be rendered in a browser, specifically focusing on interactive elements such as buttons and text fields. \n",
    "Please use TailwindCSS for styling. Use actual hex colors for the colors, do not use TailwindCSS classes for colors.\n",
    "\n",
    "Each element should only have two attributes:\n",
    "- class: a string of classes separated by spaces, for TailwindCSS styling\n",
    "- special-id: the XPath or id selector that was given to you, which will be used for identifying the element during interactions\n",
    "- type: a string that is either 'text', 'button', 'input', or 'img'\n",
    "\n",
    "Only output images if they are contained in the DOM elements that were given to you.\n",
    "\n",
    "Output your result in the following format:\n",
    "<div class='container classes here'>\n",
    "    <div type='text' class='input classes here'>\n",
    "        <!-- Additional content here -->\n",
    "    </div>\n",
    "    <div type='button' class='button classes here' special-id='button selector here'\">\n",
    "        <!-- Additional content here -->\n",
    "    </div>\n",
    "    <input type='input' class='input classes here' special-id='input selector here'>\n",
    "    <img type='img' class='img classes here' src='image source here'>\n",
    "</div>\n",
    "\"\"\""
   ]
  },
  {
   "cell_type": "code",
   "execution_count": 4,
   "metadata": {},
   "outputs": [],
   "source": [
    "def cycle_api_key():\n",
    "    global current_api_key_index\n",
    "    if current_api_key_index >= len(KEY_LIST) - 1:\n",
    "        current_api_key_index = 0\n",
    "    else:\n",
    "        current_api_key_index += 1\n",
    "    return KEY_LIST[current_api_key_index]\n",
    "\n",
    "\n",
    "def generate_content_with_cycling_keys(prompt, system_prompt, image=None):\n",
    "    global current_api_key_index\n",
    "    # Get the current API key and cycle to the next one for future requests\n",
    "    api_key = cycle_api_key()\n",
    "\n",
    "    # Configure the generative AI model with the new API key\n",
    "    genai.configure(api_key=api_key)\n",
    "    model = genai.GenerativeModel(\n",
    "        \"gemini-1.5-pro-latest\",\n",
    "        generation_config=genai.GenerationConfig(\n",
    "            max_output_tokens=8000,\n",
    "            temperature=0,\n",
    "        ),\n",
    "        system_instruction=system_prompt,\n",
    "    )\n",
    "\n",
    "    # Generate content using the provided prompt\n",
    "    if image is None:\n",
    "        response = model.generate_content(prompt)\n",
    "    else:\n",
    "        response = model.generate_content([prompt, image])\n",
    "    return response.text"
   ]
  },
  {
   "cell_type": "code",
   "execution_count": 5,
   "metadata": {},
   "outputs": [],
   "source": [
    "# Load website.html into a string\n",
    "# with open('website.html', 'r') as file:\n",
    "#     website_html = file.read()\n",
    "    \n",
    "# use selenium to open the browser and take a screenshot\n",
    "browser = open_browser()\n",
    "\n",
    "browser.get(\"https://www.dominos.com/en/\")\n",
    "\n",
    "html = browser.page_source\n",
    "\n",
    "# take a screenshot of the website\n",
    "screenshot = browser.save_screenshot(\"website.png\")\n",
    "img = PIL.Image.open('website.png')\n",
    "url = browser.current_url\n",
    "\n",
    "user_prompt = f\"\"\"\n",
    "user: I want to order a pizza\n",
    "\n",
    "current_url: {url}\n",
    "\n",
    "current_page: {html}\n",
    "\n",
    "current_screenshot is attached\n",
    "\"\"\"\n",
    "    \n",
    "# Generate content using the prompt and the website HTML\n",
    "response = generate_content_with_cycling_keys(user_prompt, system_prompt_interpret, img)"
   ]
  },
  {
   "cell_type": "code",
   "execution_count": 6,
   "metadata": {},
   "outputs": [
    {
     "data": {
      "text/plain": [
       "[{'type': 'xpath',\n",
       "  'selector': '//a[@data-quid=\"start-your-order-delivery-cta\"]'},\n",
       " {'type': 'xpath',\n",
       "  'selector': '//a[@data-quid=\"start-your-order-carryout-cta\"]'}]"
      ]
     },
     "execution_count": 6,
     "metadata": {},
     "output_type": "execute_result"
    }
   ],
   "source": [
    "obj = json.loads(response)\n",
    "obj"
   ]
  },
  {
   "cell_type": "code",
   "execution_count": 7,
   "metadata": {},
   "outputs": [],
   "source": [
    "dom_elements = \"\"\n",
    "for element in obj:\n",
    "    if element['type'] == 'xpath':\n",
    "        dom_elements += extract_elements_by_xpath(html, element[\"selector\"])\n",
    "        dom_elements += \"\\n\"\n",
    "    elif element['type'] == 'id':\n",
    "        pass\n",
    "    else:\n",
    "        dom_elements += f\"src: {element['selector']}\\n\""
   ]
  },
  {
   "cell_type": "code",
   "execution_count": 8,
   "metadata": {},
   "outputs": [
    {
     "name": "stdout",
     "output_type": "stream",
     "text": [
      "['<a data-dpz-track-evt-name=\"SYO_Delivery\" data-quid=\"start-your-order-delivery-cta\" href=\"/en/restaurants?type=Delivery\" class=\"css-14js2j3\">Delivery</a>', '//a[@data-quid=\"start-your-order-delivery-cta\"]']\n",
      "['<a data-dpz-track-evt-name=\"SYO_Carryout\" data-quid=\"start-your-order-carryout-cta\" href=\"/en/restaurants?type=Carryout\" class=\"css-14js2j3\">Carryout</a>', '//a[@data-quid=\"start-your-order-carryout-cta\"]']\n",
      "\n"
     ]
    }
   ],
   "source": [
    "print(dom_elements)"
   ]
  },
  {
   "cell_type": "code",
   "execution_count": 15,
   "metadata": {},
   "outputs": [],
   "source": [
    "design = PIL.Image.open(\"design.png\")\n",
    "response = generate_content_with_cycling_keys(\n",
    "    \"Use the attached branding guide to style the output. Use the typographies and hex codes defined in the image. Do not use Tailwind Classes\\nBase Url for images (if any): https://dominos.com\" + dom_elements, system_prompt_generate, image=design\n",
    ")"
   ]
  },
  {
   "cell_type": "code",
   "execution_count": 16,
   "metadata": {},
   "outputs": [
    {
     "name": "stdout",
     "output_type": "stream",
     "text": [
      "```html\n",
      "<div>\n",
      "    <div type='button' class='bg-primary text-white font-bold py-2 px-4 rounded-full' special-id='//a[@data-quid=\"start-your-order-delivery-cta\"]'>\n",
      "        Delivery\n",
      "    </div>\n",
      "    <div type='button' class='bg-primary text-white font-bold py-2 px-4 rounded-full' special-id='//a[@data-quid=\"start-your-order-carryout-cta\"]'>\n",
      "        Carryout\n",
      "    </div>\n",
      "</div>\n",
      "``` \n",
      "\n"
     ]
    }
   ],
   "source": [
    "print(response)"
   ]
  }
 ],
 "metadata": {
  "kernelspec": {
   "display_name": "mhacks",
   "language": "python",
   "name": "python3"
  },
  "language_info": {
   "codemirror_mode": {
    "name": "ipython",
    "version": 3
   },
   "file_extension": ".py",
   "mimetype": "text/x-python",
   "name": "python",
   "nbconvert_exporter": "python",
   "pygments_lexer": "ipython3",
   "version": "3.9.18"
  }
 },
 "nbformat": 4,
 "nbformat_minor": 2
}
