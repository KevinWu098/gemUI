{
 "cells": [
  {
   "cell_type": "code",
   "execution_count": null,
   "metadata": {},
   "outputs": [],
   "source": [
    "import google.generativeai as genai\n",
    "import ast\n",
    "import os\n",
    "import json\n",
    "import PIL.Image\n",
    "from selenium.webdriver.common.by import By\n",
    "\n",
    "# Load environment variables\n",
    "from dotenv import load_dotenv\n",
    "from selenium_functions import open_browser\n",
    "\n",
    "load_dotenv()\n",
    "\n",
    "# Convert the GEMINI_API_KEYS string from environment variables to a list\n",
    "GEMINI_API_KEYS = os.environ.get(\"GEMINI_API_KEYS\")\n",
    "KEY_LIST = ast.literal_eval(GEMINI_API_KEYS)\n",
    "\n",
    "# Global index to keep track of the current key\n",
    "current_api_key_index = 0\n",
    "\n",
    "\n"
   ]
  },
  {
   "cell_type": "code",
   "execution_count": null,
   "metadata": {},
   "outputs": [],
   "source": [
    "from lxml import html\n",
    "\n",
    "\n",
    "def extract_elements_by_xpath(html_string, xpath_selector):\n",
    "    # Parse the HTML\n",
    "    tree = html.fromstring(html_string)\n",
    "\n",
    "    # Apply the XPath selector\n",
    "    elements = tree.xpath(xpath_selector)\n",
    "\n",
    "    # Return a list of outer HTML for each element\n",
    "    return str([html.tostring(element).decode(\"utf-8\") for element in elements] + [xpath_selector])"
   ]
  },
  {
   "cell_type": "code",
   "execution_count": null,
   "metadata": {},
   "outputs": [],
   "source": [
    "system_prompt_interpret = \"\"\"\n",
    "You are a web browser navigation assistant that trims and scrapes relevant portions of the UI for a user.\n",
    "\n",
    "Whenever a user requests something, you will return a navigator action to switch URLs, or an xpath or id selector to the relevant parts of the UI for a user to look at.\n",
    "\n",
    "You will only return path or id selectors. If the request requires multiple choices, return ALL RELEVANT selectors that contains the UI that will enable the user to choose the choice themselves.\n",
    "\n",
    "For example, if there is a container containing two buttons, and it is ambiguous which button the user is interested in, return a selector to the container instead of one of the buttons only.\n",
    "\n",
    "Output your result in the following format:\n",
    "\n",
    "If the user is interested in a specific part of the UI, output your result in the following format:\n",
    "[\n",
    "    {\n",
    "        \"type\": either \"xpath\" or \"id\",\n",
    "        \"selector\": the selection string\n",
    "    },\n",
    "    {\n",
    "        \"type\": either \"xpath\" or \"id\",\n",
    "        \"selector\": the selection string\n",
    "    },\n",
    "]\n",
    "\"\"\"\n",
    "\n",
    "system_prompt_generate = \"\"\"\n",
    "You are a web browser navigation assistant that generates a user interface for a user to interact with.\n",
    "You will be given dom elements from another web browser navigation assistant that trims and scrapes relevant portions of the UI for a user.\n",
    "\n",
    "Your task is to generate valid html strings that can be rendered in a browser.\n",
    "Only return divs, do not return any other html elements.\n",
    "Please use tailwindcss for styling.\n",
    "\n",
    "Each element should only have two attributes, and only two attributes:\n",
    "- class: a string of classes separated by spaces, for tailwindcss styling\n",
    "- id: the xpath or id selector that was given to you\n",
    "\n",
    "Output your result in the following format:\n",
    "<div>\n",
    "    <div class='your classes here' id='your xpath or id selector here\"></div>\n",
    "    <div class='your classes here' id=\"your xpath or id selector here'></div>\n",
    "</div>\n",
    "\"\"\""
   ]
  },
  {
   "cell_type": "code",
   "execution_count": null,
   "metadata": {},
   "outputs": [],
   "source": [
    "def cycle_api_key():\n",
    "    global current_api_key_index\n",
    "    if current_api_key_index >= len(KEY_LIST) - 1:\n",
    "        current_api_key_index = 0\n",
    "    else:\n",
    "        current_api_key_index += 1\n",
    "    return KEY_LIST[current_api_key_index]\n",
    "\n",
    "\n",
    "def generate_content_with_cycling_keys(prompt, system_prompt, image=None):\n",
    "    global current_api_key_index\n",
    "    # Get the current API key and cycle to the next one for future requests\n",
    "    api_key = cycle_api_key()\n",
    "\n",
    "    # Configure the generative AI model with the new API key\n",
    "    genai.configure(api_key=api_key)\n",
    "    model = genai.GenerativeModel(\n",
    "        \"gemini-1.5-pro-latest\",\n",
    "        generation_config=genai.GenerationConfig(\n",
    "            max_output_tokens=8000,\n",
    "            temperature=0,\n",
    "        ),\n",
    "        system_instruction=system_prompt,\n",
    "    )\n",
    "\n",
    "    # Generate content using the provided prompt\n",
    "    if image is None:\n",
    "        response = model.generate_content(prompt)\n",
    "    else:\n",
    "        response = model.generate_content([prompt, image])\n",
    "    return response.text"
   ]
  },
  {
   "cell_type": "code",
   "execution_count": null,
   "metadata": {},
   "outputs": [],
   "source": [
    "# Load website.html into a string\n",
    "# with open('website.html', 'r') as file:\n",
    "#     website_html = file.read()\n",
    "    \n",
    "# use selenium to open the browser and take a screenshot\n",
    "browser = open_browser()\n",
    "\n",
    "browser.get(\"https://www.dominos.com/en/\")\n",
    "\n",
    "website_html = browser.page_source\n",
    "\n",
    "# take a screenshot of the website\n",
    "screenshot = browser.save_screenshot(\"website.png\")\n",
    "img = PIL.Image.open('website.png')\n",
    "\n",
    "user_prompt = f\"\"\"\n",
    "user: I want to order a pizza\n",
    "\n",
    "current_page: {website_html}\n",
    "\n",
    "current_screenshot is attached\n",
    "\"\"\"\n",
    "    \n",
    "# Generate content using the prompt and the website HTML\n",
    "response = generate_content_with_cycling_keys(user_prompt, system_prompt_interpret, img)"
   ]
  },
  {
   "cell_type": "code",
   "execution_count": null,
   "metadata": {},
   "outputs": [],
   "source": [
    "obj = json.loads(response)\n",
    "obj"
   ]
  },
  {
   "cell_type": "code",
   "execution_count": null,
   "metadata": {},
   "outputs": [],
   "source": [
    "dom_elements = \"\"\n",
    "for element in obj:\n",
    "    if element['type'] == 'xpath':\n",
    "        dom_elements += extract_elements_by_xpath(website_html, element[\"selector\"])\n",
    "        dom_elements += \"\\n\"\n",
    "    elif element['type'] == 'id':\n",
    "        pass"
   ]
  },
  {
   "cell_type": "code",
   "execution_count": null,
   "metadata": {},
   "outputs": [],
   "source": [
    "print(dom_elements)"
   ]
  },
  {
   "cell_type": "code",
   "execution_count": null,
   "metadata": {},
   "outputs": [],
   "source": [
    "response = generate_content_with_cycling_keys(dom_elements, system_prompt_generate)"
   ]
  },
  {
   "cell_type": "code",
   "execution_count": null,
   "metadata": {},
   "outputs": [],
   "source": [
    "print(response)"
   ]
  }
 ],
 "metadata": {
  "language_info": {
   "name": "python"
  }
 },
 "nbformat": 4,
 "nbformat_minor": 2
}
