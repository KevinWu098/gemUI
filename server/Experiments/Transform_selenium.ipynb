{
 "cells": [
  {
   "cell_type": "code",
   "execution_count": 1,
   "metadata": {},
   "outputs": [
    {
     "name": "stderr",
     "output_type": "stream",
     "text": [
      "c:\\Users\\Dylan\\VSCode\\projects\\GoogleXMHacks\\.venv\\lib\\site-packages\\tqdm\\auto.py:21: TqdmWarning: IProgress not found. Please update jupyter and ipywidgets. See https://ipywidgets.readthedocs.io/en/stable/user_install.html\n",
      "  from .autonotebook import tqdm as notebook_tqdm\n"
     ]
    }
   ],
   "source": [
    "import google.generativeai as genai\n",
    "import ast\n",
    "import os\n",
    "import json\n",
    "import PIL.Image\n",
    "from selenium.webdriver.common.by import By\n",
    "from constants import *\n",
    "\n",
    "# Load environment variables\n",
    "from dotenv import load_dotenv\n",
    "from selenium_functions import open_browser\n",
    "\n",
    "load_dotenv()\n",
    "\n",
    "# Convert the GEMINI_API_KEYS string from environment variables to a list\n",
    "GEMINI_API_KEYS = os.environ.get(\"GEMINI_API_KEYS\")\n",
    "KEY_LIST = ast.literal_eval(GEMINI_API_KEYS)\n",
    "\n",
    "# Randomly shuffle the list of API keys\n",
    "import random\n",
    "random.shuffle(KEY_LIST)\n",
    "\n",
    "# Global index to keep track of the current key\n",
    "current_api_key_index = 0"
   ]
  },
  {
   "cell_type": "code",
   "execution_count": 2,
   "metadata": {},
   "outputs": [],
   "source": [
    "from lxml import html\n",
    "\n",
    "\n",
    "def extract_elements_by_xpath(html_string, xpath_selector):\n",
    "    # Parse the HTML\n",
    "    tree = html.fromstring(html_string)\n",
    "\n",
    "    # Apply the XPath selector\n",
    "    elements = tree.xpath(xpath_selector)\n",
    "\n",
    "    # Return a list of outer HTML for each element\n",
    "    return str([html.tostring(element).decode(\"utf-8\") for element in elements] + [xpath_selector])"
   ]
  },
  {
   "cell_type": "code",
   "execution_count": 4,
   "metadata": {},
   "outputs": [],
   "source": [
    "def cycle_api_key():\n",
    "    global current_api_key_index\n",
    "    if current_api_key_index >= len(KEY_LIST) - 1:\n",
    "        current_api_key_index = 0\n",
    "    else:\n",
    "        current_api_key_index += 1\n",
    "    return KEY_LIST[current_api_key_index]\n",
    "\n",
    "\n",
    "def generate_content_with_cycling_keys(prompt, system_prompt, image=None):\n",
    "    global current_api_key_index\n",
    "    # Get the current API key and cycle to the next one for future requests\n",
    "    api_key = cycle_api_key()\n",
    "\n",
    "    # Configure the generative AI model with the new API key\n",
    "    genai.configure(api_key=api_key)\n",
    "    model = genai.GenerativeModel(\n",
    "        \"gemini-1.5-pro-latest\",\n",
    "        generation_config=genai.GenerationConfig(\n",
    "            max_output_tokens=8000,\n",
    "            temperature=0,\n",
    "        ),\n",
    "        system_instruction=system_prompt,\n",
    "    )\n",
    "\n",
    "    # Generate content using the provided prompt\n",
    "    if image is None:\n",
    "        response = model.generate_content(prompt, request_options={\"timeout\": 1000})\n",
    "    else:\n",
    "        response = model.generate_content(\n",
    "            [prompt, image], request_options={\"timeout\": 1000}\n",
    "        )\n",
    "    return response.text"
   ]
  },
  {
   "cell_type": "code",
   "execution_count": 10,
   "metadata": {},
   "outputs": [
    {
     "data": {
      "text/plain": [
       "[{'type': 'xpath', 'selector': \"//a[@data-quid='mix-and-match-deal-button']\"},\n",
       " {'type': 'src',\n",
       "  'selector': '/static/1.88.2/images/tiles/mixAndMatchDeal/hero.webp'}]"
      ]
     },
     "execution_count": 10,
     "metadata": {},
     "output_type": "execute_result"
    }
   ],
   "source": [
    "# Load website.html into a string\n",
    "# with open('website.html', 'r') as file:\n",
    "#     website_html = file.read()\n",
    "    \n",
    "# use selenium to open the browser and take a screenshot\n",
    "browser = open_browser()\n",
    "\n",
    "browser.get(\"https://www.dominos.com/en/\")\n",
    "\n",
    "html = browser.page_source\n",
    "\n",
    "# take a screenshot of the website\n",
    "screenshot = browser.save_screenshot(\"website.png\")\n",
    "img = PIL.Image.open('website.png')\n",
    "url = browser.current_url\n",
    "prompt = \"I would like to order a pizza for delivery.\"\n",
    "\n",
    "user_prompt = f\"\"\"\n",
    "current_url: {url}\n",
    "current_page: {html}\n",
    "current_screenshot is attached\n",
    "Output selectors for relevant elements (divs, inputs, and images) that are relevant to the user's request.x\n",
    "\n",
    "user: {prompt}\n",
    "\"\"\"\n",
    "    \n",
    "# Generate content using the prompt and the website HTML\n",
    "response = generate_content_with_cycling_keys(user_prompt, system_prompt_interpret, img)\n",
    "if \"```json\" in response:\n",
    "    response = response.split(\"```json\")[1].split(\"```\")[0]\n",
    "obj = json.loads(response)\n",
    "obj"
   ]
  },
  {
   "cell_type": "code",
   "execution_count": null,
   "metadata": {},
   "outputs": [],
   "source": [
    "dom_elements = \"\"\n",
    "for element in obj:\n",
    "    if element['type'] == 'xpath':\n",
    "        dom_elements += extract_elements_by_xpath(html, element[\"selector\"])\n",
    "        dom_elements += \"\\n\"\n",
    "    else:\n",
    "        dom_elements += f\"src: {element['selector']}\\n\""
   ]
  },
  {
   "cell_type": "code",
   "execution_count": null,
   "metadata": {},
   "outputs": [
    {
     "name": "stdout",
     "output_type": "stream",
     "text": [
      "['<a data-dpz-track-evt-name=\"SYO_Delivery\" data-quid=\"start-your-order-delivery-cta\" href=\"/en/restaurants?type=Delivery\" class=\"css-14js2j3\">Delivery</a>', '//a[@data-quid=\"start-your-order-delivery-cta\"]']\n",
      "['<a data-dpz-track-evt-name=\"SYO_Carryout\" data-quid=\"start-your-order-carryout-cta\" href=\"/en/restaurants?type=Carryout\" class=\"css-14js2j3\">Carryout</a>', '//a[@data-quid=\"start-your-order-carryout-cta\"]']\n",
      "\n"
     ]
    }
   ],
   "source": [
    "print(dom_elements)"
   ]
  },
  {
   "cell_type": "code",
   "execution_count": null,
   "metadata": {},
   "outputs": [],
   "source": [
    "design = PIL.Image.open(\"design.png\")\n",
    "response = generate_content_with_cycling_keys(\n",
    "    design_schema\n",
    "    + \"\\n\\n\"\n",
    "    + dom_elements\n",
    "    + \"\\n\\n\"\n",
    "    + '\"Only output div, button, input, img, and select elements. Do not use Tailwind Classes\\nBase Url for images (if any): https://dominos.com \\n\\n',\n",
    "    system_prompt_generate,\n",
    ")"
   ]
  },
  {
   "cell_type": "code",
   "execution_count": null,
   "metadata": {},
   "outputs": [
    {
     "name": "stdout",
     "output_type": "stream",
     "text": [
      "```html\n",
      "<div>\n",
      "    <div type='button' class='bg-primary text-white font-bold py-2 px-4 rounded-full' special-id='//a[@data-quid=\"start-your-order-delivery-cta\"]'>\n",
      "        Delivery\n",
      "    </div>\n",
      "    <div type='button' class='bg-primary text-white font-bold py-2 px-4 rounded-full' special-id='//a[@data-quid=\"start-your-order-carryout-cta\"]'>\n",
      "        Carryout\n",
      "    </div>\n",
      "</div>\n",
      "``` \n",
      "\n"
     ]
    }
   ],
   "source": [
    "print(response)"
   ]
  }
 ],
 "metadata": {
  "kernelspec": {
   "display_name": "mhacks",
   "language": "python",
   "name": "python3"
  },
  "language_info": {
   "codemirror_mode": {
    "name": "ipython",
    "version": 3
   },
   "file_extension": ".py",
   "mimetype": "text/x-python",
   "name": "python",
   "nbconvert_exporter": "python",
   "pygments_lexer": "ipython3",
   "version": "3.9.13"
  }
 },
 "nbformat": 4,
 "nbformat_minor": 2
}
