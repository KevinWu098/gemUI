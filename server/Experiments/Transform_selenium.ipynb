{
 "cells": [
  {
   "cell_type": "code",
   "execution_count": 12,
   "metadata": {},
   "outputs": [],
   "source": [
    "import google.generativeai as genai\n",
    "import ast\n",
    "import os\n",
    "import json\n",
    "import PIL.Image\n",
    "from selenium.webdriver.common.by import By\n",
    "from constants import *\n",
    "\n",
    "# Load environment variables\n",
    "from dotenv import load_dotenv\n",
    "from selenium_functions import open_browser\n",
    "\n",
    "load_dotenv()\n",
    "\n",
    "# Convert the GEMINI_API_KEYS string from environment variables to a list\n",
    "GEMINI_API_KEYS = os.environ.get(\"GEMINI_API_KEYS\")\n",
    "KEY_LIST = ast.literal_eval(GEMINI_API_KEYS)\n",
    "\n",
    "# Randomly shuffle the list of API keys\n",
    "import random\n",
    "random.shuffle(KEY_LIST)\n",
    "\n",
    "# Global index to keep track of the current key\n",
    "current_api_key_index = 0"
   ]
  },
  {
   "cell_type": "code",
   "execution_count": 13,
   "metadata": {},
   "outputs": [],
   "source": [
    "from lxml import html\n",
    "\n",
    "\n",
    "def extract_elements_by_xpath(html_string, xpath_selector):\n",
    "    # Parse the HTML\n",
    "    tree = html.fromstring(html_string)\n",
    "\n",
    "    # Apply the XPath selector\n",
    "    elements = tree.xpath(xpath_selector)\n",
    "\n",
    "    # Return a list of outer HTML for each element\n",
    "    return str([html.tostring(element).decode(\"utf-8\") for element in elements] + [xpath_selector])"
   ]
  },
  {
   "cell_type": "code",
   "execution_count": 14,
   "metadata": {},
   "outputs": [],
   "source": [
    "def cycle_api_key():\n",
    "    global current_api_key_index\n",
    "    if current_api_key_index >= len(KEY_LIST) - 1:\n",
    "        current_api_key_index = 0\n",
    "    else:\n",
    "        current_api_key_index += 1\n",
    "    return KEY_LIST[current_api_key_index]\n",
    "\n",
    "\n",
    "def generate_content_with_cycling_keys(prompt, system_prompt, image=None):\n",
    "    global current_api_key_index\n",
    "    # Get the current API key and cycle to the next one for future requests\n",
    "    api_key = cycle_api_key()\n",
    "\n",
    "    # Configure the generative AI model with the new API key\n",
    "    genai.configure(api_key=api_key)\n",
    "    model = genai.GenerativeModel(\n",
    "        \"gemini-1.5-pro-latest\",\n",
    "        generation_config=genai.GenerationConfig(\n",
    "            max_output_tokens=8000,\n",
    "            temperature=0,\n",
    "        ),\n",
    "        system_instruction=system_prompt,\n",
    "    )\n",
    "\n",
    "    # Generate content using the provided prompt\n",
    "    if image is None:\n",
    "        response = model.generate_content(prompt, request_options={\"timeout\": 1000})\n",
    "    else:\n",
    "        response = model.generate_content(\n",
    "            [prompt, image], request_options={\"timeout\": 1000}\n",
    "        )\n",
    "    return response.text"
   ]
  },
  {
   "cell_type": "code",
   "execution_count": 15,
   "metadata": {},
   "outputs": [
    {
     "data": {
      "text/plain": [
       "[{'type': 'xpath',\n",
       "  'selector': \"//a[@data-quid='start-your-order-delivery-cta']\"}]"
      ]
     },
     "execution_count": 15,
     "metadata": {},
     "output_type": "execute_result"
    }
   ],
   "source": [
    "# Load website.html into a string\n",
    "# with open('website.html', 'r') as file:\n",
    "#     website_html = file.read()\n",
    "    \n",
    "# use selenium to open the browser and take a screenshot\n",
    "browser = open_browser()\n",
    "\n",
    "browser.get(\"https://www.dominos.com/en/\")\n",
    "\n",
    "html_string = browser.page_source\n",
    "\n",
    "# take a screenshot of the website\n",
    "screenshot = browser.save_screenshot(\"website.png\")\n",
    "img = PIL.Image.open('website.png')\n",
    "url = browser.current_url\n",
    "prompt = \"I would like to order a pizza for delivery.\"\n",
    "\n",
    "user_prompt = f\"\"\"\n",
    "current_url: {url}\n",
    "current_page: {html_string}\n",
    "current_screenshot is attached\n",
    "Output selectors for relevant elements (divs, inputs, and images) that are relevant to the user's request.x\n",
    "\n",
    "user: {prompt}\n",
    "\"\"\"\n",
    "    \n",
    "# Generate content using the prompt and the website HTML\n",
    "response = generate_content_with_cycling_keys(user_prompt, system_prompt_interpret, img)\n",
    "if \"```json\" in response:\n",
    "    response = response.split(\"```json\")[1].split(\"```\")[0]\n",
    "obj = json.loads(response)\n",
    "obj"
   ]
  },
  {
   "cell_type": "code",
   "execution_count": 16,
   "metadata": {},
   "outputs": [
    {
     "ename": "AttributeError",
     "evalue": "'str' object has no attribute 'fromstring'",
     "output_type": "error",
     "traceback": [
      "\u001b[1;31m---------------------------------------------------------------------------\u001b[0m",
      "\u001b[1;31mAttributeError\u001b[0m                            Traceback (most recent call last)",
      "Cell \u001b[1;32mIn[16], line 4\u001b[0m\n\u001b[0;32m      2\u001b[0m \u001b[38;5;28;01mfor\u001b[39;00m element \u001b[38;5;129;01min\u001b[39;00m obj:\n\u001b[0;32m      3\u001b[0m     \u001b[38;5;28;01mif\u001b[39;00m element[\u001b[38;5;124m'\u001b[39m\u001b[38;5;124mtype\u001b[39m\u001b[38;5;124m'\u001b[39m] \u001b[38;5;241m==\u001b[39m \u001b[38;5;124m'\u001b[39m\u001b[38;5;124mxpath\u001b[39m\u001b[38;5;124m'\u001b[39m:\n\u001b[1;32m----> 4\u001b[0m         dom_elements \u001b[38;5;241m+\u001b[39m\u001b[38;5;241m=\u001b[39m \u001b[43mextract_elements_by_xpath\u001b[49m\u001b[43m(\u001b[49m\u001b[43mhtml\u001b[49m\u001b[43m,\u001b[49m\u001b[43m \u001b[49m\u001b[43melement\u001b[49m\u001b[43m[\u001b[49m\u001b[38;5;124;43m\"\u001b[39;49m\u001b[38;5;124;43mselector\u001b[39;49m\u001b[38;5;124;43m\"\u001b[39;49m\u001b[43m]\u001b[49m\u001b[43m)\u001b[49m\n\u001b[0;32m      5\u001b[0m         dom_elements \u001b[38;5;241m+\u001b[39m\u001b[38;5;241m=\u001b[39m \u001b[38;5;124m\"\u001b[39m\u001b[38;5;130;01m\\n\u001b[39;00m\u001b[38;5;124m\"\u001b[39m\n\u001b[0;32m      6\u001b[0m     \u001b[38;5;28;01melse\u001b[39;00m:\n",
      "Cell \u001b[1;32mIn[13], line 6\u001b[0m, in \u001b[0;36mextract_elements_by_xpath\u001b[1;34m(html_string, xpath_selector)\u001b[0m\n\u001b[0;32m      4\u001b[0m \u001b[38;5;28;01mdef\u001b[39;00m \u001b[38;5;21mextract_elements_by_xpath\u001b[39m(html_string, xpath_selector):\n\u001b[0;32m      5\u001b[0m     \u001b[38;5;66;03m# Parse the HTML\u001b[39;00m\n\u001b[1;32m----> 6\u001b[0m     tree \u001b[38;5;241m=\u001b[39m \u001b[43mhtml\u001b[49m\u001b[38;5;241;43m.\u001b[39;49m\u001b[43mfromstring\u001b[49m(html_string)\n\u001b[0;32m      8\u001b[0m     \u001b[38;5;66;03m# Apply the XPath selector\u001b[39;00m\n\u001b[0;32m      9\u001b[0m     elements \u001b[38;5;241m=\u001b[39m tree\u001b[38;5;241m.\u001b[39mxpath(xpath_selector)\n",
      "\u001b[1;31mAttributeError\u001b[0m: 'str' object has no attribute 'fromstring'"
     ]
    }
   ],
   "source": [
    "dom_elements = \"\"\n",
    "for element in obj:\n",
    "    if element['type'] == 'xpath':\n",
    "        dom_elements += extract_elements_by_xpath(html_string, element[\"selector\"])\n",
    "        dom_elements += \"\\n\"\n",
    "    else:\n",
    "        dom_elements += f\"src: {element['selector']}\\n\""
   ]
  },
  {
   "cell_type": "code",
   "execution_count": null,
   "metadata": {},
   "outputs": [
    {
     "name": "stdout",
     "output_type": "stream",
     "text": [
      "['<a data-dpz-track-evt-name=\"SYO_Delivery\" data-quid=\"start-your-order-delivery-cta\" href=\"/en/restaurants?type=Delivery\" class=\"css-14js2j3\">Delivery</a>', '//a[@data-quid=\"start-your-order-delivery-cta\"]']\n",
      "['<a data-dpz-track-evt-name=\"SYO_Carryout\" data-quid=\"start-your-order-carryout-cta\" href=\"/en/restaurants?type=Carryout\" class=\"css-14js2j3\">Carryout</a>', '//a[@data-quid=\"start-your-order-carryout-cta\"]']\n",
      "\n"
     ]
    }
   ],
   "source": [
    "print(dom_elements)"
   ]
  },
  {
   "cell_type": "code",
   "execution_count": null,
   "metadata": {},
   "outputs": [],
   "source": [
    "design = PIL.Image.open(\"design.png\")\n",
    "response = generate_content_with_cycling_keys(\n",
    "    design_schema\n",
    "    + \"\\n\\n\"\n",
    "    + dom_elements\n",
    "    + \"\\n\\n\"\n",
    "    + '\"Only output div, button, input, img, and select elements. Do not use Tailwind Classes\\nBase Url for images (if any): {url} \\n\\n',\n",
    "    system_prompt_generate,\n",
    ")"
   ]
  },
  {
   "cell_type": "code",
   "execution_count": null,
   "metadata": {},
   "outputs": [
    {
     "name": "stdout",
     "output_type": "stream",
     "text": [
      "```html\n",
      "<div>\n",
      "    <div type='button' class='bg-primary text-white font-bold py-2 px-4 rounded-full' special-id='//a[@data-quid=\"start-your-order-delivery-cta\"]'>\n",
      "        Delivery\n",
      "    </div>\n",
      "    <div type='button' class='bg-primary text-white font-bold py-2 px-4 rounded-full' special-id='//a[@data-quid=\"start-your-order-carryout-cta\"]'>\n",
      "        Carryout\n",
      "    </div>\n",
      "</div>\n",
      "``` \n",
      "\n"
     ]
    }
   ],
   "source": [
    "print(response)"
   ]
  }
 ],
 "metadata": {
  "kernelspec": {
   "display_name": "mhacks",
   "language": "python",
   "name": "python3"
  },
  "language_info": {
   "codemirror_mode": {
    "name": "ipython",
    "version": 3
   },
   "file_extension": ".py",
   "mimetype": "text/x-python",
   "name": "python",
   "nbconvert_exporter": "python",
   "pygments_lexer": "ipython3",
   "version": "3.9.13"
  }
 },
 "nbformat": 4,
 "nbformat_minor": 2
}
